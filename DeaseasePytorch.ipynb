{
 "cells": [
  {
   "cell_type": "markdown",
   "source": [
    "# Итоговый проект по распознаванию сердечно-сосудистых заболеваний\n",
    "Используем библиотеку Pytorch"
   ],
   "metadata": {
    "collapsed": false
   },
   "id": "83128db41a0259eb"
  },
  {
   "cell_type": "code",
   "execution_count": 1,
   "outputs": [],
   "source": [
    "import pandas as pd\n",
    "from missingno import matrix\n",
    "from sklearn.preprocessing import MinMaxScaler, StandardScaler\n",
    "from sklearn.impute import KNNImputer\n",
    "from sklearn.model_selection import train_test_split\n",
    "import torch\n",
    "from torch.utils.data import DataLoader, TensorDataset\n",
    "from torch import nn\n",
    "import torch.optim as optim"
   ],
   "metadata": {
    "collapsed": false,
    "ExecuteTime": {
     "end_time": "2024-07-22T16:53:29.388892Z",
     "start_time": "2024-07-22T16:53:20.013898400Z"
    }
   },
   "id": "b783adee49897b3f"
  },
  {
   "cell_type": "code",
   "execution_count": 2,
   "outputs": [
    {
     "data": {
      "text/plain": "   id    age  gender  height  weight  ap_hi  ap_lo  cholesterol  gluc  smoke  \\\n0   0  18393       2     168    62.0    110     80            1     1      0   \n1   1  20228       1     156    85.0    140     90            3     1      0   \n2   2  18857       1     165    64.0    130     70            3     1      0   \n3   3  17623       2     169    82.0    150    100            1     1      0   \n4   4  17474       1     156    56.0    100     60            1     1      0   \n\n   alco  active  cardio  \n0     0       1       0  \n1     0       1       1  \n2     0       0       1  \n3     0       1       1  \n4     0       0       0  ",
      "text/html": "<div>\n<style scoped>\n    .dataframe tbody tr th:only-of-type {\n        vertical-align: middle;\n    }\n\n    .dataframe tbody tr th {\n        vertical-align: top;\n    }\n\n    .dataframe thead th {\n        text-align: right;\n    }\n</style>\n<table border=\"1\" class=\"dataframe\">\n  <thead>\n    <tr style=\"text-align: right;\">\n      <th></th>\n      <th>id</th>\n      <th>age</th>\n      <th>gender</th>\n      <th>height</th>\n      <th>weight</th>\n      <th>ap_hi</th>\n      <th>ap_lo</th>\n      <th>cholesterol</th>\n      <th>gluc</th>\n      <th>smoke</th>\n      <th>alco</th>\n      <th>active</th>\n      <th>cardio</th>\n    </tr>\n  </thead>\n  <tbody>\n    <tr>\n      <th>0</th>\n      <td>0</td>\n      <td>18393</td>\n      <td>2</td>\n      <td>168</td>\n      <td>62.0</td>\n      <td>110</td>\n      <td>80</td>\n      <td>1</td>\n      <td>1</td>\n      <td>0</td>\n      <td>0</td>\n      <td>1</td>\n      <td>0</td>\n    </tr>\n    <tr>\n      <th>1</th>\n      <td>1</td>\n      <td>20228</td>\n      <td>1</td>\n      <td>156</td>\n      <td>85.0</td>\n      <td>140</td>\n      <td>90</td>\n      <td>3</td>\n      <td>1</td>\n      <td>0</td>\n      <td>0</td>\n      <td>1</td>\n      <td>1</td>\n    </tr>\n    <tr>\n      <th>2</th>\n      <td>2</td>\n      <td>18857</td>\n      <td>1</td>\n      <td>165</td>\n      <td>64.0</td>\n      <td>130</td>\n      <td>70</td>\n      <td>3</td>\n      <td>1</td>\n      <td>0</td>\n      <td>0</td>\n      <td>0</td>\n      <td>1</td>\n    </tr>\n    <tr>\n      <th>3</th>\n      <td>3</td>\n      <td>17623</td>\n      <td>2</td>\n      <td>169</td>\n      <td>82.0</td>\n      <td>150</td>\n      <td>100</td>\n      <td>1</td>\n      <td>1</td>\n      <td>0</td>\n      <td>0</td>\n      <td>1</td>\n      <td>1</td>\n    </tr>\n    <tr>\n      <th>4</th>\n      <td>4</td>\n      <td>17474</td>\n      <td>1</td>\n      <td>156</td>\n      <td>56.0</td>\n      <td>100</td>\n      <td>60</td>\n      <td>1</td>\n      <td>1</td>\n      <td>0</td>\n      <td>0</td>\n      <td>0</td>\n      <td>0</td>\n    </tr>\n  </tbody>\n</table>\n</div>"
     },
     "execution_count": 2,
     "metadata": {},
     "output_type": "execute_result"
    }
   ],
   "source": [
    "df = pd.read_csv('cardio_train.csv', sep=';')\n",
    "df.head()"
   ],
   "metadata": {
    "collapsed": false,
    "ExecuteTime": {
     "end_time": "2024-07-22T16:53:29.557895600Z",
     "start_time": "2024-07-22T16:53:29.385894700Z"
    }
   },
   "id": "6736c79a78b33c3c"
  },
  {
   "cell_type": "markdown",
   "source": [
    "Информация о датасете"
   ],
   "metadata": {
    "collapsed": false
   },
   "id": "43fbfe1e494846c1"
  },
  {
   "cell_type": "code",
   "execution_count": 3,
   "outputs": [
    {
     "name": "stdout",
     "output_type": "stream",
     "text": [
      "<class 'pandas.core.frame.DataFrame'>\n",
      "RangeIndex: 70000 entries, 0 to 69999\n",
      "Data columns (total 13 columns):\n",
      " #   Column       Non-Null Count  Dtype  \n",
      "---  ------       --------------  -----  \n",
      " 0   id           70000 non-null  int64  \n",
      " 1   age          70000 non-null  int64  \n",
      " 2   gender       70000 non-null  int64  \n",
      " 3   height       70000 non-null  int64  \n",
      " 4   weight       70000 non-null  float64\n",
      " 5   ap_hi        70000 non-null  int64  \n",
      " 6   ap_lo        70000 non-null  int64  \n",
      " 7   cholesterol  70000 non-null  int64  \n",
      " 8   gluc         70000 non-null  int64  \n",
      " 9   smoke        70000 non-null  int64  \n",
      " 10  alco         70000 non-null  int64  \n",
      " 11  active       70000 non-null  int64  \n",
      " 12  cardio       70000 non-null  int64  \n",
      "dtypes: float64(1), int64(12)\n",
      "memory usage: 6.9 MB\n"
     ]
    }
   ],
   "source": [
    "df.info()"
   ],
   "metadata": {
    "collapsed": false,
    "ExecuteTime": {
     "end_time": "2024-07-22T16:53:29.670889300Z",
     "start_time": "2024-07-22T16:53:29.554894600Z"
    }
   },
   "id": "db67ff10f09ea2d4"
  },
  {
   "cell_type": "markdown",
   "source": [
    "Описательные статистики"
   ],
   "metadata": {
    "collapsed": false
   },
   "id": "2eca73bcb156acaf"
  },
  {
   "cell_type": "code",
   "execution_count": 4,
   "outputs": [
    {
     "data": {
      "text/plain": "               count          mean           std      min       25%      50%  \\\nid           70000.0  49972.419900  28851.302323      0.0  25006.75  50001.5   \nage          70000.0  19468.865814   2467.251667  10798.0  17664.00  19703.0   \ngender       70000.0      1.349571      0.476838      1.0      1.00      1.0   \nheight       70000.0    164.359229      8.210126     55.0    159.00    165.0   \nweight       70000.0     74.205690     14.395757     10.0     65.00     72.0   \nap_hi        70000.0    128.817286    154.011419   -150.0    120.00    120.0   \nap_lo        70000.0     96.630414    188.472530    -70.0     80.00     80.0   \ncholesterol  70000.0      1.366871      0.680250      1.0      1.00      1.0   \ngluc         70000.0      1.226457      0.572270      1.0      1.00      1.0   \nsmoke        70000.0      0.088129      0.283484      0.0      0.00      0.0   \nalco         70000.0      0.053771      0.225568      0.0      0.00      0.0   \nactive       70000.0      0.803729      0.397179      0.0      1.00      1.0   \ncardio       70000.0      0.499700      0.500003      0.0      0.00      0.0   \n\n                  75%      max  \nid           74889.25  99999.0  \nage          21327.00  23713.0  \ngender           2.00      2.0  \nheight         170.00    250.0  \nweight          82.00    200.0  \nap_hi          140.00  16020.0  \nap_lo           90.00  11000.0  \ncholesterol      2.00      3.0  \ngluc             1.00      3.0  \nsmoke            0.00      1.0  \nalco             0.00      1.0  \nactive           1.00      1.0  \ncardio           1.00      1.0  ",
      "text/html": "<div>\n<style scoped>\n    .dataframe tbody tr th:only-of-type {\n        vertical-align: middle;\n    }\n\n    .dataframe tbody tr th {\n        vertical-align: top;\n    }\n\n    .dataframe thead th {\n        text-align: right;\n    }\n</style>\n<table border=\"1\" class=\"dataframe\">\n  <thead>\n    <tr style=\"text-align: right;\">\n      <th></th>\n      <th>count</th>\n      <th>mean</th>\n      <th>std</th>\n      <th>min</th>\n      <th>25%</th>\n      <th>50%</th>\n      <th>75%</th>\n      <th>max</th>\n    </tr>\n  </thead>\n  <tbody>\n    <tr>\n      <th>id</th>\n      <td>70000.0</td>\n      <td>49972.419900</td>\n      <td>28851.302323</td>\n      <td>0.0</td>\n      <td>25006.75</td>\n      <td>50001.5</td>\n      <td>74889.25</td>\n      <td>99999.0</td>\n    </tr>\n    <tr>\n      <th>age</th>\n      <td>70000.0</td>\n      <td>19468.865814</td>\n      <td>2467.251667</td>\n      <td>10798.0</td>\n      <td>17664.00</td>\n      <td>19703.0</td>\n      <td>21327.00</td>\n      <td>23713.0</td>\n    </tr>\n    <tr>\n      <th>gender</th>\n      <td>70000.0</td>\n      <td>1.349571</td>\n      <td>0.476838</td>\n      <td>1.0</td>\n      <td>1.00</td>\n      <td>1.0</td>\n      <td>2.00</td>\n      <td>2.0</td>\n    </tr>\n    <tr>\n      <th>height</th>\n      <td>70000.0</td>\n      <td>164.359229</td>\n      <td>8.210126</td>\n      <td>55.0</td>\n      <td>159.00</td>\n      <td>165.0</td>\n      <td>170.00</td>\n      <td>250.0</td>\n    </tr>\n    <tr>\n      <th>weight</th>\n      <td>70000.0</td>\n      <td>74.205690</td>\n      <td>14.395757</td>\n      <td>10.0</td>\n      <td>65.00</td>\n      <td>72.0</td>\n      <td>82.00</td>\n      <td>200.0</td>\n    </tr>\n    <tr>\n      <th>ap_hi</th>\n      <td>70000.0</td>\n      <td>128.817286</td>\n      <td>154.011419</td>\n      <td>-150.0</td>\n      <td>120.00</td>\n      <td>120.0</td>\n      <td>140.00</td>\n      <td>16020.0</td>\n    </tr>\n    <tr>\n      <th>ap_lo</th>\n      <td>70000.0</td>\n      <td>96.630414</td>\n      <td>188.472530</td>\n      <td>-70.0</td>\n      <td>80.00</td>\n      <td>80.0</td>\n      <td>90.00</td>\n      <td>11000.0</td>\n    </tr>\n    <tr>\n      <th>cholesterol</th>\n      <td>70000.0</td>\n      <td>1.366871</td>\n      <td>0.680250</td>\n      <td>1.0</td>\n      <td>1.00</td>\n      <td>1.0</td>\n      <td>2.00</td>\n      <td>3.0</td>\n    </tr>\n    <tr>\n      <th>gluc</th>\n      <td>70000.0</td>\n      <td>1.226457</td>\n      <td>0.572270</td>\n      <td>1.0</td>\n      <td>1.00</td>\n      <td>1.0</td>\n      <td>1.00</td>\n      <td>3.0</td>\n    </tr>\n    <tr>\n      <th>smoke</th>\n      <td>70000.0</td>\n      <td>0.088129</td>\n      <td>0.283484</td>\n      <td>0.0</td>\n      <td>0.00</td>\n      <td>0.0</td>\n      <td>0.00</td>\n      <td>1.0</td>\n    </tr>\n    <tr>\n      <th>alco</th>\n      <td>70000.0</td>\n      <td>0.053771</td>\n      <td>0.225568</td>\n      <td>0.0</td>\n      <td>0.00</td>\n      <td>0.0</td>\n      <td>0.00</td>\n      <td>1.0</td>\n    </tr>\n    <tr>\n      <th>active</th>\n      <td>70000.0</td>\n      <td>0.803729</td>\n      <td>0.397179</td>\n      <td>0.0</td>\n      <td>1.00</td>\n      <td>1.0</td>\n      <td>1.00</td>\n      <td>1.0</td>\n    </tr>\n    <tr>\n      <th>cardio</th>\n      <td>70000.0</td>\n      <td>0.499700</td>\n      <td>0.500003</td>\n      <td>0.0</td>\n      <td>0.00</td>\n      <td>0.0</td>\n      <td>1.00</td>\n      <td>1.0</td>\n    </tr>\n  </tbody>\n</table>\n</div>"
     },
     "execution_count": 4,
     "metadata": {},
     "output_type": "execute_result"
    }
   ],
   "source": [
    "df.describe().T"
   ],
   "metadata": {
    "collapsed": false,
    "ExecuteTime": {
     "end_time": "2024-07-22T16:53:30.074893100Z",
     "start_time": "2024-07-22T16:53:29.602899300Z"
    }
   },
   "id": "4224deaf11d025e1"
  },
  {
   "cell_type": "markdown",
   "source": [
    "Преобразуем данные датасета"
   ],
   "metadata": {
    "collapsed": false
   },
   "id": "9be6258ae72ccf49"
  },
  {
   "cell_type": "code",
   "execution_count": 5,
   "outputs": [],
   "source": [
    "target_data = df['cardio']\n",
    "df = df.drop(columns = ['id', 'cardio'])"
   ],
   "metadata": {
    "collapsed": false,
    "ExecuteTime": {
     "end_time": "2024-07-22T16:53:30.075894100Z",
     "start_time": "2024-07-22T16:53:29.740895Z"
    }
   },
   "id": "f49b3ba6a1a741a0"
  },
  {
   "cell_type": "markdown",
   "source": [
    "Визуализация пропусков датасета"
   ],
   "metadata": {
    "collapsed": false
   },
   "id": "999f1bf2a13da56b"
  },
  {
   "cell_type": "code",
   "execution_count": 6,
   "outputs": [
    {
     "data": {
      "text/plain": "<Axes: >"
     },
     "execution_count": 6,
     "metadata": {},
     "output_type": "execute_result"
    },
    {
     "data": {
      "text/plain": "<Figure size 2500x1000 with 2 Axes>",
      "image/png": "[encoded data removed]"
     },
     "metadata": {},
     "output_type": "display_data"
    }
   ],
   "source": [
    "matrix(df)"
   ],
   "metadata": {
    "collapsed": false,
    "ExecuteTime": {
     "end_time": "2024-07-22T16:53:31.978918200Z",
     "start_time": "2024-07-22T16:53:29.775893500Z"
    }
   },
   "id": "b2eced6e34a4ef31"
  },
  {
   "cell_type": "markdown",
   "source": [
    "Избавимся от выбросов с помощью межквартильного интервала"
   ],
   "metadata": {
    "collapsed": false
   },
   "id": "df0de5e87849ffd0"
  },
  {
   "cell_type": "code",
   "execution_count": 7,
   "outputs": [],
   "source": [
    "binary_columns = df.columns[df.isin([0, 1]).all()]\n",
    "df_check = df.drop(columns=binary_columns)\n",
    "\n",
    "Q1 = df_check.quantile(0.25)\n",
    "Q3 = df_check.quantile(0.75)\n",
    "\n",
    "df = df.drop(columns=df_check)\n",
    "\n",
    "IQR = Q3 - Q1\n",
    "\n",
    "lower_bound = Q1 - 1.5 * IQR\n",
    "upper_bound = Q3 + 1.5 * IQR\n",
    "\n",
    "column_to_check = df_check[(df_check >= lower_bound) & (df_check <= upper_bound)]\n",
    "df = pd.concat([column_to_check, df], axis=1)"
   ],
   "metadata": {
    "collapsed": false,
    "ExecuteTime": {
     "end_time": "2024-07-22T16:53:32.354892400Z",
     "start_time": "2024-07-22T16:53:31.890893300Z"
    }
   },
   "id": "f8a4a53ca57946c9"
  },
  {
   "cell_type": "markdown",
   "source": [
    "Избавимся от пропусков в датасете"
   ],
   "metadata": {
    "collapsed": false
   },
   "id": "d1bba0deea20e09a"
  },
  {
   "cell_type": "code",
   "execution_count": 8,
   "outputs": [
    {
     "name": "stdout",
     "output_type": "stream",
     "text": [
      "<class 'pandas.core.frame.DataFrame'>\n",
      "RangeIndex: 70000 entries, 0 to 69999\n",
      "Data columns (total 11 columns):\n",
      " #   Column       Non-Null Count  Dtype  \n",
      "---  ------       --------------  -----  \n",
      " 0   age          70000 non-null  float64\n",
      " 1   gender       70000 non-null  float64\n",
      " 2   height       70000 non-null  float64\n",
      " 3   weight       70000 non-null  float64\n",
      " 4   ap_hi        70000 non-null  float64\n",
      " 5   ap_lo        70000 non-null  float64\n",
      " 6   cholesterol  70000 non-null  float64\n",
      " 7   gluc         70000 non-null  float64\n",
      " 8   smoke        70000 non-null  float64\n",
      " 9   alco         70000 non-null  float64\n",
      " 10  active       70000 non-null  float64\n",
      "dtypes: float64(11)\n",
      "memory usage: 5.9 MB\n"
     ]
    }
   ],
   "source": [
    "scaler = MinMaxScaler()\n",
    "normalized_data = scaler.fit_transform(df)\n",
    "df = pd.DataFrame(normalized_data, columns=df.columns)\n",
    "\n",
    "imputer = KNNImputer()\n",
    "df_filled = imputer.fit_transform(df)\n",
    "df_filled_original = scaler.inverse_transform(df_filled)\n",
    "df = pd.DataFrame(df_filled_original, columns=df.columns)\n",
    "df.info()"
   ],
   "metadata": {
    "collapsed": false,
    "ExecuteTime": {
     "end_time": "2024-07-22T16:56:39.694203700Z",
     "start_time": "2024-07-22T16:53:32.041898Z"
    }
   },
   "id": "233a4117c7689b89"
  },
  {
   "cell_type": "markdown",
   "source": [
    "Выполним нормализацию и стандартизацию данных"
   ],
   "metadata": {
    "collapsed": false
   },
   "id": "80605a315b2a445e"
  },
  {
   "cell_type": "code",
   "execution_count": 9,
   "outputs": [
    {
     "data": {
      "text/plain": "        age    gender    height    weight     ap_hi     ap_lo  cholesterol  \\\n0 -0.436398  1.364055  0.470154 -0.905920 -1.062436 -0.251989    -0.539322   \n1  0.307602 -0.733108 -1.105485  0.953922  0.889390  1.029498     2.400793   \n2 -0.248270 -0.733108  0.076244 -0.744195  0.238781 -1.533476     2.400793   \n3 -0.748595  1.364055  0.601457  0.711334  1.539999  2.310984    -0.539322   \n4 -0.809007 -0.733108 -1.105485 -1.391096 -1.713045 -1.097770    -0.539322   \n\n   gluc     smoke      alco    active  \n0   0.0 -0.310879 -0.238384  0.494167  \n1   0.0 -0.310879 -0.238384  0.494167  \n2   0.0 -0.310879 -0.238384 -2.023607  \n3   0.0 -0.310879 -0.238384  0.494167  \n4   0.0 -0.310879 -0.238384 -2.023607  ",
      "text/html": "<div>\n<style scoped>\n    .dataframe tbody tr th:only-of-type {\n        vertical-align: middle;\n    }\n\n    .dataframe tbody tr th {\n        vertical-align: top;\n    }\n\n    .dataframe thead th {\n        text-align: right;\n    }\n</style>\n<table border=\"1\" class=\"dataframe\">\n  <thead>\n    <tr style=\"text-align: right;\">\n      <th></th>\n      <th>age</th>\n      <th>gender</th>\n      <th>height</th>\n      <th>weight</th>\n      <th>ap_hi</th>\n      <th>ap_lo</th>\n      <th>cholesterol</th>\n      <th>gluc</th>\n      <th>smoke</th>\n      <th>alco</th>\n      <th>active</th>\n    </tr>\n  </thead>\n  <tbody>\n    <tr>\n      <th>0</th>\n      <td>-0.436398</td>\n      <td>1.364055</td>\n      <td>0.470154</td>\n      <td>-0.905920</td>\n      <td>-1.062436</td>\n      <td>-0.251989</td>\n      <td>-0.539322</td>\n      <td>0.0</td>\n      <td>-0.310879</td>\n      <td>-0.238384</td>\n      <td>0.494167</td>\n    </tr>\n    <tr>\n      <th>1</th>\n      <td>0.307602</td>\n      <td>-0.733108</td>\n      <td>-1.105485</td>\n      <td>0.953922</td>\n      <td>0.889390</td>\n      <td>1.029498</td>\n      <td>2.400793</td>\n      <td>0.0</td>\n      <td>-0.310879</td>\n      <td>-0.238384</td>\n      <td>0.494167</td>\n    </tr>\n    <tr>\n      <th>2</th>\n      <td>-0.248270</td>\n      <td>-0.733108</td>\n      <td>0.076244</td>\n      <td>-0.744195</td>\n      <td>0.238781</td>\n      <td>-1.533476</td>\n      <td>2.400793</td>\n      <td>0.0</td>\n      <td>-0.310879</td>\n      <td>-0.238384</td>\n      <td>-2.023607</td>\n    </tr>\n    <tr>\n      <th>3</th>\n      <td>-0.748595</td>\n      <td>1.364055</td>\n      <td>0.601457</td>\n      <td>0.711334</td>\n      <td>1.539999</td>\n      <td>2.310984</td>\n      <td>-0.539322</td>\n      <td>0.0</td>\n      <td>-0.310879</td>\n      <td>-0.238384</td>\n      <td>0.494167</td>\n    </tr>\n    <tr>\n      <th>4</th>\n      <td>-0.809007</td>\n      <td>-0.733108</td>\n      <td>-1.105485</td>\n      <td>-1.391096</td>\n      <td>-1.713045</td>\n      <td>-1.097770</td>\n      <td>-0.539322</td>\n      <td>0.0</td>\n      <td>-0.310879</td>\n      <td>-0.238384</td>\n      <td>-2.023607</td>\n    </tr>\n  </tbody>\n</table>\n</div>"
     },
     "execution_count": 9,
     "metadata": {},
     "output_type": "execute_result"
    }
   ],
   "source": [
    "minmax_scaler = MinMaxScaler()\n",
    "standard_scaler = StandardScaler()\n",
    "\n",
    "normalized_data = minmax_scaler.fit_transform(df)\n",
    "df = pd.DataFrame(normalized_data, columns=df.columns)\n",
    "\n",
    "standard_data = standard_scaler.fit_transform(df)\n",
    "df = pd.DataFrame(standard_data, columns=df.columns)\n",
    "\n",
    "df.head()"
   ],
   "metadata": {
    "collapsed": false,
    "ExecuteTime": {
     "end_time": "2024-07-22T16:56:39.813205900Z",
     "start_time": "2024-07-22T16:56:39.674201300Z"
    }
   },
   "id": "cce246101cc5a3c6"
  },
  {
   "cell_type": "markdown",
   "source": [
    "Подготовка данных к обучению"
   ],
   "metadata": {
    "collapsed": false
   },
   "id": "80700e13fde0456f"
  },
  {
   "cell_type": "code",
   "execution_count": 12,
   "outputs": [],
   "source": [
    "X_train, X_test, y_train, y_test = train_test_split(df.values, target_data.values, test_size=0.3)\n",
    "\n",
    "X_train = torch.tensor(X_train, dtype=torch.float32)\n",
    "y_train = torch.tensor(y_train, dtype=torch.long)\n",
    "X_test = torch.tensor(X_test, dtype=torch.float32)\n",
    "y_test = torch.tensor(y_test, dtype=torch.long)\n",
    "\n",
    "train_dataset = TensorDataset(X_train, y_train)\n",
    "test_dataset = TensorDataset(X_test, y_test)\n",
    "\n",
    "train_loader = DataLoader(train_dataset, batch_size=32, shuffle=True)\n",
    "test_loader = DataLoader(test_dataset, batch_size=32, shuffle=False)"
   ],
   "metadata": {
    "collapsed": false,
    "ExecuteTime": {
     "end_time": "2024-07-22T16:58:54.988294700Z",
     "start_time": "2024-07-22T16:58:54.847291Z"
    }
   },
   "id": "94592c51617bb885"
  },
  {
   "cell_type": "markdown",
   "source": [
    "# Создание модели классификации"
   ],
   "metadata": {
    "collapsed": false
   },
   "id": "943a0ee76dee863e"
  },
  {
   "cell_type": "code",
   "execution_count": 14,
   "outputs": [
    {
     "name": "stdout",
     "output_type": "stream",
     "text": [
      "Epoch 1, Loss: 0.6618560287838816, Val Loss: 0.6398090566402157\n",
      "Epoch 2, Loss: 0.6371153354566963, Val Loss: 0.6368555424783147\n",
      "Epoch 3, Loss: 0.6359408629703148, Val Loss: 0.6374368268423791\n",
      "Epoch 4, Loss: 0.6359299013376547, Val Loss: 0.6391326799603176\n",
      "Epoch 5, Loss: 0.6358029806777329, Val Loss: 0.6369573458053931\n",
      "Epoch 6, Loss: 0.6360022741766262, Val Loss: 0.6376341317795908\n",
      "Epoch 7, Loss: 0.6358016870974249, Val Loss: 0.6375941333886876\n",
      "Early stopping\n",
      "Accuracy: 0.7261904761904762\n"
     ]
    }
   ],
   "source": [
    "class Model(nn.Module):\n",
    "    def __init__(self):\n",
    "        super(Model, self).__init__()\n",
    "        self.fc1 = nn.Linear(X_train.shape[1], 64)\n",
    "        self.dropout = nn.Dropout(0.1)\n",
    "        self.fc2 = nn.Linear(64, 128)\n",
    "        self.fc3 = nn.Linear(128, 64)\n",
    "        self.fc4 = nn.Linear(64, 2)\n",
    "        self.relu = nn.ReLU()\n",
    "        self.softmax = nn.Softmax(dim=1)\n",
    "        self.l2_reg = 0.01\n",
    "        \n",
    "    def forward(self, x):\n",
    "        x = self.fc1(x)\n",
    "        x = self.relu(x)\n",
    "        x = self.dropout(x)\n",
    "        x = self.fc2(x)\n",
    "        x = self.relu(x)\n",
    "        x = self.dropout(x)\n",
    "        x = self.fc3(x)\n",
    "        x = self.relu(x)\n",
    "        x = self.dropout(x)\n",
    "        x = self.fc4(x)\n",
    "        x = self.softmax(x)\n",
    "        return x\n",
    "    \n",
    "    def l2_regulation(self):\n",
    "        l2_reg = torch.tensor(0.)\n",
    "        for param in self.parameters():\n",
    "            l2_reg += torch.norm(param, 2)\n",
    "        return self.l2_reg * l2_reg\n",
    "    \n",
    "model = Model()\n",
    "criterion = nn.CrossEntropyLoss()\n",
    "optimizer = optim.Adam(model.parameters(), lr=0.001)\n",
    "patience = 5\n",
    "\n",
    "best_loss = float('inf')\n",
    "counter = 0\n",
    "num_epochs = 100\n",
    "\n",
    "for epoch in range(num_epochs):\n",
    "    model.train()\n",
    "    running_loss = 0.0\n",
    "    for inputs, labels in train_loader:\n",
    "        optimizer.zero_grad()\n",
    "        outputs = model(inputs)  \n",
    "        loss = criterion(outputs, labels) + model.l2_regulation()\n",
    "        loss.backward()\n",
    "        optimizer.step()\n",
    "        running_loss += loss.item()\n",
    "        \n",
    "    model.eval()\n",
    "    val_loss = 0.0\n",
    "    with torch.no_grad():\n",
    "        for inputs, labels in test_loader:\n",
    "            outputs = model(inputs)\n",
    "            loss = criterion(outputs, labels) + model.l2_regulation()\n",
    "            val_loss += loss.item()\n",
    "            \n",
    "    val_loss /= len(test_loader)\n",
    "    \n",
    "    print(f'Epoch {epoch+1}, Loss: {running_loss/len(train_loader)}, Val Loss: {val_loss}')\n",
    "    \n",
    "    if val_loss < best_loss:\n",
    "        best_loss = val_loss\n",
    "        best_model_wts = model.state_dict().copy()\n",
    "        counter = 0\n",
    "    else:\n",
    "        counter += 1\n",
    "        if counter >= patience:\n",
    "            print(\"Early stopping\")\n",
    "            break\n",
    "   \n",
    "model.load_state_dict(best_model_wts)\n",
    "\n",
    "model.eval()\n",
    "correct = 0\n",
    "total = 0\n",
    "with torch.no_grad():\n",
    "    for inputs, labels in test_loader:\n",
    "        outputs = model(inputs)\n",
    "        _, predicted = torch.max(outputs.data, 1)\n",
    "        total += labels.size(0)\n",
    "        correct += (predicted == labels).sum().item()\n",
    "\n",
    "accuracy = correct / total\n",
    "print(f'Accuracy: {accuracy}')"
   ],
   "metadata": {
    "collapsed": false,
    "ExecuteTime": {
     "end_time": "2024-07-22T17:23:39.885256400Z",
     "start_time": "2024-07-22T17:22:54.995259400Z"
    }
   },
   "id": "730159cb0ffa2ea7"
  }
 ],
 "metadata": {
  "kernelspec": {
   "display_name": "Python 3",
   "language": "python",
   "name": "python3"
  },
  "language_info": {
   "codemirror_mode": {
    "name": "ipython",
    "version": 2
   },
   "file_extension": ".py",
   "mimetype": "text/x-python",
   "name": "python",
   "nbconvert_exporter": "python",
   "pygments_lexer": "ipython2",
   "version": "2.7.6"
  }
 },
 "nbformat": 4,
 "nbformat_minor": 5
}

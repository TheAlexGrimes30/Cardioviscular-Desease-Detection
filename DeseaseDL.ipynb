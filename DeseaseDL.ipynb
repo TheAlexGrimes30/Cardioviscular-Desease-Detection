{
 "cells": [
  {
   "cell_type": "markdown",
   "source": [
    "# Итоговый проект\n",
    "Распознавание сердечно-сосудистых заболеваний"
   ],
   "metadata": {
    "collapsed": false
   },
   "id": "a2d26c8282b919e3"
  },
  {
   "cell_type": "markdown",
   "source": [
    "Импортируем необходимые библиотеки и модули"
   ],
   "metadata": {
    "collapsed": false
   },
   "id": "4003ea2e7ccb10ea"
  },
  {
   "cell_type": "code",
   "execution_count": 13,
   "outputs": [
    {
     "name": "stderr",
     "output_type": "stream",
     "text": [
      "C:\\Users\\sagop\\AppData\\Local\\Temp\\ipykernel_11100\\2626091011.py:10: DeprecationWarning: `import kerastuner` is deprecated, please use `import keras_tuner`.\n",
      "  from kerastuner.tuners import RandomSearch\n"
     ]
    }
   ],
   "source": [
    "import pandas as pd\n",
    "from missingno import matrix\n",
    "from sklearn.preprocessing import MinMaxScaler, StandardScaler\n",
    "from sklearn.impute import KNNImputer\n",
    "from sklearn.model_selection import train_test_split, StratifiedKFold\n",
    "from keras.models import Sequential\n",
    "from keras.layers import Dropout, Dense \n",
    "from keras.callbacks import EarlyStopping\n",
    "from keras import regularizers\n",
    "from kerastuner.tuners import RandomSearch"
   ],
   "metadata": {
    "collapsed": false,
    "ExecuteTime": {
     "end_time": "2024-05-12T12:00:26.493261100Z",
     "start_time": "2024-05-12T12:00:26.389202800Z"
    }
   },
   "id": "8b2fb64a723607da"
  },
  {
   "cell_type": "markdown",
   "source": [
    "Получение данных из датасета"
   ],
   "metadata": {
    "collapsed": false
   },
   "id": "65b2594009a07ce8"
  },
  {
   "cell_type": "code",
   "execution_count": 2,
   "outputs": [
    {
     "data": {
      "text/plain": "   id    age  gender  height  weight  ap_hi  ap_lo  cholesterol  gluc  smoke  \\\n0   0  18393       2     168    62.0    110     80            1     1      0   \n1   1  20228       1     156    85.0    140     90            3     1      0   \n2   2  18857       1     165    64.0    130     70            3     1      0   \n3   3  17623       2     169    82.0    150    100            1     1      0   \n4   4  17474       1     156    56.0    100     60            1     1      0   \n\n   alco  active  cardio  \n0     0       1       0  \n1     0       1       1  \n2     0       0       1  \n3     0       1       1  \n4     0       0       0  ",
      "text/html": "<div>\n<style scoped>\n    .dataframe tbody tr th:only-of-type {\n        vertical-align: middle;\n    }\n\n    .dataframe tbody tr th {\n        vertical-align: top;\n    }\n\n    .dataframe thead th {\n        text-align: right;\n    }\n</style>\n<table border=\"1\" class=\"dataframe\">\n  <thead>\n    <tr style=\"text-align: right;\">\n      <th></th>\n      <th>id</th>\n      <th>age</th>\n      <th>gender</th>\n      <th>height</th>\n      <th>weight</th>\n      <th>ap_hi</th>\n      <th>ap_lo</th>\n      <th>cholesterol</th>\n      <th>gluc</th>\n      <th>smoke</th>\n      <th>alco</th>\n      <th>active</th>\n      <th>cardio</th>\n    </tr>\n  </thead>\n  <tbody>\n    <tr>\n      <th>0</th>\n      <td>0</td>\n      <td>18393</td>\n      <td>2</td>\n      <td>168</td>\n      <td>62.0</td>\n      <td>110</td>\n      <td>80</td>\n      <td>1</td>\n      <td>1</td>\n      <td>0</td>\n      <td>0</td>\n      <td>1</td>\n      <td>0</td>\n    </tr>\n    <tr>\n      <th>1</th>\n      <td>1</td>\n      <td>20228</td>\n      <td>1</td>\n      <td>156</td>\n      <td>85.0</td>\n      <td>140</td>\n      <td>90</td>\n      <td>3</td>\n      <td>1</td>\n      <td>0</td>\n      <td>0</td>\n      <td>1</td>\n      <td>1</td>\n    </tr>\n    <tr>\n      <th>2</th>\n      <td>2</td>\n      <td>18857</td>\n      <td>1</td>\n      <td>165</td>\n      <td>64.0</td>\n      <td>130</td>\n      <td>70</td>\n      <td>3</td>\n      <td>1</td>\n      <td>0</td>\n      <td>0</td>\n      <td>0</td>\n      <td>1</td>\n    </tr>\n    <tr>\n      <th>3</th>\n      <td>3</td>\n      <td>17623</td>\n      <td>2</td>\n      <td>169</td>\n      <td>82.0</td>\n      <td>150</td>\n      <td>100</td>\n      <td>1</td>\n      <td>1</td>\n      <td>0</td>\n      <td>0</td>\n      <td>1</td>\n      <td>1</td>\n    </tr>\n    <tr>\n      <th>4</th>\n      <td>4</td>\n      <td>17474</td>\n      <td>1</td>\n      <td>156</td>\n      <td>56.0</td>\n      <td>100</td>\n      <td>60</td>\n      <td>1</td>\n      <td>1</td>\n      <td>0</td>\n      <td>0</td>\n      <td>0</td>\n      <td>0</td>\n    </tr>\n  </tbody>\n</table>\n</div>"
     },
     "execution_count": 2,
     "metadata": {},
     "output_type": "execute_result"
    }
   ],
   "source": [
    "df = pd.read_csv('cardio_train.csv', sep=';')\n",
    "df.head()"
   ],
   "metadata": {
    "collapsed": false,
    "ExecuteTime": {
     "end_time": "2024-05-12T10:08:09.245115300Z",
     "start_time": "2024-05-12T10:08:08.562389100Z"
    }
   },
   "id": "ddc14fdf56f88bea"
  },
  {
   "cell_type": "markdown",
   "source": [
    "Информация о датасете"
   ],
   "metadata": {
    "collapsed": false
   },
   "id": "7b348e1545be3eec"
  },
  {
   "cell_type": "code",
   "execution_count": 3,
   "outputs": [
    {
     "name": "stdout",
     "output_type": "stream",
     "text": [
      "<class 'pandas.core.frame.DataFrame'>\n",
      "RangeIndex: 70000 entries, 0 to 69999\n",
      "Data columns (total 13 columns):\n",
      " #   Column       Non-Null Count  Dtype  \n",
      "---  ------       --------------  -----  \n",
      " 0   id           70000 non-null  int64  \n",
      " 1   age          70000 non-null  int64  \n",
      " 2   gender       70000 non-null  int64  \n",
      " 3   height       70000 non-null  int64  \n",
      " 4   weight       70000 non-null  float64\n",
      " 5   ap_hi        70000 non-null  int64  \n",
      " 6   ap_lo        70000 non-null  int64  \n",
      " 7   cholesterol  70000 non-null  int64  \n",
      " 8   gluc         70000 non-null  int64  \n",
      " 9   smoke        70000 non-null  int64  \n",
      " 10  alco         70000 non-null  int64  \n",
      " 11  active       70000 non-null  int64  \n",
      " 12  cardio       70000 non-null  int64  \n",
      "dtypes: float64(1), int64(12)\n",
      "memory usage: 6.9 MB\n"
     ]
    }
   ],
   "source": [
    "df.info()"
   ],
   "metadata": {
    "collapsed": false,
    "ExecuteTime": {
     "end_time": "2024-05-12T10:09:18.551413600Z",
     "start_time": "2024-05-12T10:09:18.397417300Z"
    }
   },
   "id": "aa95f409f666511d"
  },
  {
   "cell_type": "markdown",
   "source": [
    "Описательные статистики датасета"
   ],
   "metadata": {
    "collapsed": false
   },
   "id": "406155affb6b845"
  },
  {
   "cell_type": "code",
   "execution_count": 4,
   "outputs": [
    {
     "data": {
      "text/plain": "               count          mean           std      min       25%      50%  \\\nid           70000.0  49972.419900  28851.302323      0.0  25006.75  50001.5   \nage          70000.0  19468.865814   2467.251667  10798.0  17664.00  19703.0   \ngender       70000.0      1.349571      0.476838      1.0      1.00      1.0   \nheight       70000.0    164.359229      8.210126     55.0    159.00    165.0   \nweight       70000.0     74.205690     14.395757     10.0     65.00     72.0   \nap_hi        70000.0    128.817286    154.011419   -150.0    120.00    120.0   \nap_lo        70000.0     96.630414    188.472530    -70.0     80.00     80.0   \ncholesterol  70000.0      1.366871      0.680250      1.0      1.00      1.0   \ngluc         70000.0      1.226457      0.572270      1.0      1.00      1.0   \nsmoke        70000.0      0.088129      0.283484      0.0      0.00      0.0   \nalco         70000.0      0.053771      0.225568      0.0      0.00      0.0   \nactive       70000.0      0.803729      0.397179      0.0      1.00      1.0   \ncardio       70000.0      0.499700      0.500003      0.0      0.00      0.0   \n\n                  75%      max  \nid           74889.25  99999.0  \nage          21327.00  23713.0  \ngender           2.00      2.0  \nheight         170.00    250.0  \nweight          82.00    200.0  \nap_hi          140.00  16020.0  \nap_lo           90.00  11000.0  \ncholesterol      2.00      3.0  \ngluc             1.00      3.0  \nsmoke            0.00      1.0  \nalco             0.00      1.0  \nactive           1.00      1.0  \ncardio           1.00      1.0  ",
      "text/html": "<div>\n<style scoped>\n    .dataframe tbody tr th:only-of-type {\n        vertical-align: middle;\n    }\n\n    .dataframe tbody tr th {\n        vertical-align: top;\n    }\n\n    .dataframe thead th {\n        text-align: right;\n    }\n</style>\n<table border=\"1\" class=\"dataframe\">\n  <thead>\n    <tr style=\"text-align: right;\">\n      <th></th>\n      <th>count</th>\n      <th>mean</th>\n      <th>std</th>\n      <th>min</th>\n      <th>25%</th>\n      <th>50%</th>\n      <th>75%</th>\n      <th>max</th>\n    </tr>\n  </thead>\n  <tbody>\n    <tr>\n      <th>id</th>\n      <td>70000.0</td>\n      <td>49972.419900</td>\n      <td>28851.302323</td>\n      <td>0.0</td>\n      <td>25006.75</td>\n      <td>50001.5</td>\n      <td>74889.25</td>\n      <td>99999.0</td>\n    </tr>\n    <tr>\n      <th>age</th>\n      <td>70000.0</td>\n      <td>19468.865814</td>\n      <td>2467.251667</td>\n      <td>10798.0</td>\n      <td>17664.00</td>\n      <td>19703.0</td>\n      <td>21327.00</td>\n      <td>23713.0</td>\n    </tr>\n    <tr>\n      <th>gender</th>\n      <td>70000.0</td>\n      <td>1.349571</td>\n      <td>0.476838</td>\n      <td>1.0</td>\n      <td>1.00</td>\n      <td>1.0</td>\n      <td>2.00</td>\n      <td>2.0</td>\n    </tr>\n    <tr>\n      <th>height</th>\n      <td>70000.0</td>\n      <td>164.359229</td>\n      <td>8.210126</td>\n      <td>55.0</td>\n      <td>159.00</td>\n      <td>165.0</td>\n      <td>170.00</td>\n      <td>250.0</td>\n    </tr>\n    <tr>\n      <th>weight</th>\n      <td>70000.0</td>\n      <td>74.205690</td>\n      <td>14.395757</td>\n      <td>10.0</td>\n      <td>65.00</td>\n      <td>72.0</td>\n      <td>82.00</td>\n      <td>200.0</td>\n    </tr>\n    <tr>\n      <th>ap_hi</th>\n      <td>70000.0</td>\n      <td>128.817286</td>\n      <td>154.011419</td>\n      <td>-150.0</td>\n      <td>120.00</td>\n      <td>120.0</td>\n      <td>140.00</td>\n      <td>16020.0</td>\n    </tr>\n    <tr>\n      <th>ap_lo</th>\n      <td>70000.0</td>\n      <td>96.630414</td>\n      <td>188.472530</td>\n      <td>-70.0</td>\n      <td>80.00</td>\n      <td>80.0</td>\n      <td>90.00</td>\n      <td>11000.0</td>\n    </tr>\n    <tr>\n      <th>cholesterol</th>\n      <td>70000.0</td>\n      <td>1.366871</td>\n      <td>0.680250</td>\n      <td>1.0</td>\n      <td>1.00</td>\n      <td>1.0</td>\n      <td>2.00</td>\n      <td>3.0</td>\n    </tr>\n    <tr>\n      <th>gluc</th>\n      <td>70000.0</td>\n      <td>1.226457</td>\n      <td>0.572270</td>\n      <td>1.0</td>\n      <td>1.00</td>\n      <td>1.0</td>\n      <td>1.00</td>\n      <td>3.0</td>\n    </tr>\n    <tr>\n      <th>smoke</th>\n      <td>70000.0</td>\n      <td>0.088129</td>\n      <td>0.283484</td>\n      <td>0.0</td>\n      <td>0.00</td>\n      <td>0.0</td>\n      <td>0.00</td>\n      <td>1.0</td>\n    </tr>\n    <tr>\n      <th>alco</th>\n      <td>70000.0</td>\n      <td>0.053771</td>\n      <td>0.225568</td>\n      <td>0.0</td>\n      <td>0.00</td>\n      <td>0.0</td>\n      <td>0.00</td>\n      <td>1.0</td>\n    </tr>\n    <tr>\n      <th>active</th>\n      <td>70000.0</td>\n      <td>0.803729</td>\n      <td>0.397179</td>\n      <td>0.0</td>\n      <td>1.00</td>\n      <td>1.0</td>\n      <td>1.00</td>\n      <td>1.0</td>\n    </tr>\n    <tr>\n      <th>cardio</th>\n      <td>70000.0</td>\n      <td>0.499700</td>\n      <td>0.500003</td>\n      <td>0.0</td>\n      <td>0.00</td>\n      <td>0.0</td>\n      <td>1.00</td>\n      <td>1.0</td>\n    </tr>\n  </tbody>\n</table>\n</div>"
     },
     "execution_count": 4,
     "metadata": {},
     "output_type": "execute_result"
    }
   ],
   "source": [
    "df.describe().T"
   ],
   "metadata": {
    "collapsed": false,
    "ExecuteTime": {
     "end_time": "2024-05-12T10:09:23.098937200Z",
     "start_time": "2024-05-12T10:09:22.943360500Z"
    }
   },
   "id": "6d22267568834ff5"
  },
  {
   "cell_type": "markdown",
   "source": [
    "Преобразуем данные датасета"
   ],
   "metadata": {
    "collapsed": false
   },
   "id": "f33cecb717b4469e"
  },
  {
   "cell_type": "code",
   "execution_count": 5,
   "outputs": [],
   "source": [
    "# Удалим id пациента и целевую переменную из датасета\n",
    "\n",
    "target_data = df['cardio']\n",
    "df = df.drop(columns=['id', 'cardio'])"
   ],
   "metadata": {
    "collapsed": false,
    "ExecuteTime": {
     "end_time": "2024-05-12T10:09:27.603642200Z",
     "start_time": "2024-05-12T10:09:26.619291100Z"
    }
   },
   "id": "42f6140b44b50e9d"
  },
  {
   "cell_type": "markdown",
   "source": [
    "Визуализация пропусков датасета"
   ],
   "metadata": {
    "collapsed": false
   },
   "id": "997ed231b3839082"
  },
  {
   "cell_type": "code",
   "execution_count": 6,
   "outputs": [
    {
     "data": {
      "text/plain": "<Axes: >"
     },
     "execution_count": 6,
     "metadata": {},
     "output_type": "execute_result"
    },
    {
     "data": {
      "text/plain": "<Figure size 2500x1000 with 2 Axes>",
      "image/png": "[encoded data removed]"
     },
     "metadata": {},
     "output_type": "display_data"
    }
   ],
   "source": [
    "matrix(df)"
   ],
   "metadata": {
    "collapsed": false,
    "ExecuteTime": {
     "end_time": "2024-05-12T10:09:36.430364300Z",
     "start_time": "2024-05-12T10:09:32.311128900Z"
    }
   },
   "id": "cffe368dbf198d61"
  },
  {
   "cell_type": "markdown",
   "source": [
    "Избавимся от выбросов с помощью метода межквартильного интервала"
   ],
   "metadata": {
    "collapsed": false
   },
   "id": "2865aa3d39959c5e"
  },
  {
   "cell_type": "code",
   "execution_count": 7,
   "outputs": [],
   "source": [
    "binary_columns = df.columns[df.isin([0, 1]).all()]\n",
    "df_check = df.drop(columns=binary_columns)\n",
    "\n",
    "Q1 = df_check.quantile(0.25)\n",
    "Q3 = df_check.quantile(0.75)\n",
    "\n",
    "df = df.drop(columns=df_check)\n",
    "\n",
    "IQR = Q3 - Q1\n",
    "\n",
    "lower_bound = Q1 - 1.5 * IQR\n",
    "upper_bound = Q3 + 1.5 * IQR\n",
    "\n",
    "column_to_check = df_check[(df_check >= lower_bound) & (df_check <= upper_bound)]\n",
    "df = pd.concat([column_to_check, df], axis=1)"
   ],
   "metadata": {
    "collapsed": false,
    "ExecuteTime": {
     "end_time": "2024-05-12T10:09:41.282408800Z",
     "start_time": "2024-05-12T10:09:40.982773900Z"
    }
   },
   "id": "45879b3bf2a6e2a0"
  },
  {
   "cell_type": "markdown",
   "source": [
    "Избавимся от пропусков в датасете"
   ],
   "metadata": {
    "collapsed": false
   },
   "id": "b17eff99b05b63a3"
  },
  {
   "cell_type": "code",
   "execution_count": 8,
   "outputs": [
    {
     "name": "stdout",
     "output_type": "stream",
     "text": [
      "<class 'pandas.core.frame.DataFrame'>\n",
      "RangeIndex: 70000 entries, 0 to 69999\n",
      "Data columns (total 11 columns):\n",
      " #   Column       Non-Null Count  Dtype  \n",
      "---  ------       --------------  -----  \n",
      " 0   age          70000 non-null  float64\n",
      " 1   gender       70000 non-null  float64\n",
      " 2   height       70000 non-null  float64\n",
      " 3   weight       70000 non-null  float64\n",
      " 4   ap_hi        70000 non-null  float64\n",
      " 5   ap_lo        70000 non-null  float64\n",
      " 6   cholesterol  70000 non-null  float64\n",
      " 7   gluc         70000 non-null  float64\n",
      " 8   smoke        70000 non-null  float64\n",
      " 9   alco         70000 non-null  float64\n",
      " 10  active       70000 non-null  float64\n",
      "dtypes: float64(11)\n",
      "memory usage: 5.9 MB\n"
     ]
    }
   ],
   "source": [
    "scaler = MinMaxScaler()\n",
    "normalized_data = scaler.fit_transform(df)\n",
    "df = pd.DataFrame(normalized_data, columns=df.columns)\n",
    "\n",
    "imputer = KNNImputer()\n",
    "df_filled = imputer.fit_transform(df)\n",
    "df_filled_original = scaler.inverse_transform(df_filled)\n",
    "df = pd.DataFrame(df_filled_original, columns=df.columns)\n",
    "df.info()"
   ],
   "metadata": {
    "collapsed": false,
    "ExecuteTime": {
     "end_time": "2024-05-12T10:13:52.507852100Z",
     "start_time": "2024-05-12T10:09:44.108935500Z"
    }
   },
   "id": "93203e328527b351"
  },
  {
   "cell_type": "markdown",
   "source": [
    "Выполним нормализацию и стандартизацию данных"
   ],
   "metadata": {
    "collapsed": false
   },
   "id": "1a22ccc9d34eb575"
  },
  {
   "cell_type": "code",
   "execution_count": 9,
   "outputs": [
    {
     "data": {
      "text/plain": "        age    gender    height    weight     ap_hi     ap_lo  cholesterol  \\\n0 -0.436398  1.364055  0.470154 -0.905920 -1.062436 -0.251989    -0.539322   \n1  0.307602 -0.733108 -1.105485  0.953922  0.889390  1.029498     2.400793   \n2 -0.248270 -0.733108  0.076244 -0.744195  0.238781 -1.533476     2.400793   \n3 -0.748595  1.364055  0.601457  0.711334  1.539999  2.310984    -0.539322   \n4 -0.809007 -0.733108 -1.105485 -1.391096 -1.713045 -1.097770    -0.539322   \n\n   gluc     smoke      alco    active  \n0   0.0 -0.310879 -0.238384  0.494167  \n1   0.0 -0.310879 -0.238384  0.494167  \n2   0.0 -0.310879 -0.238384 -2.023607  \n3   0.0 -0.310879 -0.238384  0.494167  \n4   0.0 -0.310879 -0.238384 -2.023607  ",
      "text/html": "<div>\n<style scoped>\n    .dataframe tbody tr th:only-of-type {\n        vertical-align: middle;\n    }\n\n    .dataframe tbody tr th {\n        vertical-align: top;\n    }\n\n    .dataframe thead th {\n        text-align: right;\n    }\n</style>\n<table border=\"1\" class=\"dataframe\">\n  <thead>\n    <tr style=\"text-align: right;\">\n      <th></th>\n      <th>age</th>\n      <th>gender</th>\n      <th>height</th>\n      <th>weight</th>\n      <th>ap_hi</th>\n      <th>ap_lo</th>\n      <th>cholesterol</th>\n      <th>gluc</th>\n      <th>smoke</th>\n      <th>alco</th>\n      <th>active</th>\n    </tr>\n  </thead>\n  <tbody>\n    <tr>\n      <th>0</th>\n      <td>-0.436398</td>\n      <td>1.364055</td>\n      <td>0.470154</td>\n      <td>-0.905920</td>\n      <td>-1.062436</td>\n      <td>-0.251989</td>\n      <td>-0.539322</td>\n      <td>0.0</td>\n      <td>-0.310879</td>\n      <td>-0.238384</td>\n      <td>0.494167</td>\n    </tr>\n    <tr>\n      <th>1</th>\n      <td>0.307602</td>\n      <td>-0.733108</td>\n      <td>-1.105485</td>\n      <td>0.953922</td>\n      <td>0.889390</td>\n      <td>1.029498</td>\n      <td>2.400793</td>\n      <td>0.0</td>\n      <td>-0.310879</td>\n      <td>-0.238384</td>\n      <td>0.494167</td>\n    </tr>\n    <tr>\n      <th>2</th>\n      <td>-0.248270</td>\n      <td>-0.733108</td>\n      <td>0.076244</td>\n      <td>-0.744195</td>\n      <td>0.238781</td>\n      <td>-1.533476</td>\n      <td>2.400793</td>\n      <td>0.0</td>\n      <td>-0.310879</td>\n      <td>-0.238384</td>\n      <td>-2.023607</td>\n    </tr>\n    <tr>\n      <th>3</th>\n      <td>-0.748595</td>\n      <td>1.364055</td>\n      <td>0.601457</td>\n      <td>0.711334</td>\n      <td>1.539999</td>\n      <td>2.310984</td>\n      <td>-0.539322</td>\n      <td>0.0</td>\n      <td>-0.310879</td>\n      <td>-0.238384</td>\n      <td>0.494167</td>\n    </tr>\n    <tr>\n      <th>4</th>\n      <td>-0.809007</td>\n      <td>-0.733108</td>\n      <td>-1.105485</td>\n      <td>-1.391096</td>\n      <td>-1.713045</td>\n      <td>-1.097770</td>\n      <td>-0.539322</td>\n      <td>0.0</td>\n      <td>-0.310879</td>\n      <td>-0.238384</td>\n      <td>-2.023607</td>\n    </tr>\n  </tbody>\n</table>\n</div>"
     },
     "execution_count": 9,
     "metadata": {},
     "output_type": "execute_result"
    }
   ],
   "source": [
    "minmax_scaler = MinMaxScaler()\n",
    "standard_scaler = StandardScaler()\n",
    "\n",
    "normalized_data = minmax_scaler.fit_transform(df)\n",
    "df = pd.DataFrame(normalized_data, columns=df.columns)\n",
    "\n",
    "standard_data = standard_scaler.fit_transform(df)\n",
    "df = pd.DataFrame(standard_data, columns=df.columns)\n",
    "\n",
    "df.head()"
   ],
   "metadata": {
    "collapsed": false,
    "ExecuteTime": {
     "end_time": "2024-05-12T10:14:04.750548700Z",
     "start_time": "2024-05-12T10:14:04.463861900Z"
    }
   },
   "id": "5a2757e14ce4a8d2"
  },
  {
   "cell_type": "markdown",
   "source": [
    "Подготовка данных для обучения"
   ],
   "metadata": {
    "collapsed": false
   },
   "id": "658c107f136ebb1d"
  },
  {
   "cell_type": "code",
   "execution_count": 10,
   "outputs": [],
   "source": [
    "X_train, X_test, y_train, y_test = train_test_split(df, target_data, test_size=0.3)\n",
    "\n",
    "stratified_kfold = StratifiedKFold(n_splits=5, shuffle=True, random_state=42)"
   ],
   "metadata": {
    "collapsed": false,
    "ExecuteTime": {
     "end_time": "2024-05-12T10:14:08.318038Z",
     "start_time": "2024-05-12T10:14:07.918494Z"
    }
   },
   "id": "e4fa5594c10bb952"
  },
  {
   "cell_type": "markdown",
   "source": [
    "Первая модель нейронной сети"
   ],
   "metadata": {
    "collapsed": false
   },
   "id": "d34d0212fce219ec"
  },
  {
   "cell_type": "code",
   "execution_count": 11,
   "outputs": [
    {
     "name": "stdout",
     "output_type": "stream",
     "text": [
      "WARNING:tensorflow:From C:\\Users\\sagop\\venv\\lib\\site-packages\\keras\\src\\backend.py:873: The name tf.get_default_graph is deprecated. Please use tf.compat.v1.get_default_graph instead.\n",
      "WARNING:tensorflow:From C:\\Users\\sagop\\venv\\lib\\site-packages\\keras\\src\\optimizers\\__init__.py:309: The name tf.train.Optimizer is deprecated. Please use tf.compat.v1.train.Optimizer instead.\n",
      "Epoch 1/100\n",
      "WARNING:tensorflow:From C:\\Users\\sagop\\venv\\lib\\site-packages\\keras\\src\\utils\\tf_utils.py:492: The name tf.ragged.RaggedTensorValue is deprecated. Please use tf.compat.v1.ragged.RaggedTensorValue instead.\n",
      "WARNING:tensorflow:From C:\\Users\\sagop\\venv\\lib\\site-packages\\keras\\src\\engine\\base_layer_utils.py:384: The name tf.executing_eagerly_outside_functions is deprecated. Please use tf.compat.v1.executing_eagerly_outside_functions instead.\n",
      "1532/1532 [==============================] - 18s 9ms/step - loss: 0.7006 - accuracy: 0.7213 - val_loss: 0.5708 - val_accuracy: 0.7277\n",
      "Epoch 2/100\n",
      "1532/1532 [==============================] - 14s 9ms/step - loss: 0.5770 - accuracy: 0.7264 - val_loss: 0.5653 - val_accuracy: 0.7301\n",
      "Epoch 3/100\n",
      "1532/1532 [==============================] - 13s 9ms/step - loss: 0.5734 - accuracy: 0.7255 - val_loss: 0.5651 - val_accuracy: 0.7324\n",
      "Epoch 4/100\n",
      "1532/1532 [==============================] - 12s 8ms/step - loss: 0.5726 - accuracy: 0.7272 - val_loss: 0.5697 - val_accuracy: 0.7301\n",
      "Epoch 5/100\n",
      "1532/1532 [==============================] - 14s 9ms/step - loss: 0.5729 - accuracy: 0.7255 - val_loss: 0.5633 - val_accuracy: 0.7308\n",
      "Epoch 6/100\n",
      "1532/1532 [==============================] - 12s 8ms/step - loss: 0.5712 - accuracy: 0.7252 - val_loss: 0.5628 - val_accuracy: 0.7283\n",
      "Epoch 7/100\n",
      "1532/1532 [==============================] - 13s 8ms/step - loss: 0.5702 - accuracy: 0.7255 - val_loss: 0.5633 - val_accuracy: 0.7326\n",
      "Epoch 8/100\n",
      "1532/1532 [==============================] - 12s 8ms/step - loss: 0.5707 - accuracy: 0.7263 - val_loss: 0.5629 - val_accuracy: 0.7298\n",
      "Epoch 9/100\n",
      "1532/1532 [==============================] - 13s 8ms/step - loss: 0.5692 - accuracy: 0.7257 - val_loss: 0.5653 - val_accuracy: 0.7302\n",
      "Epoch 10/100\n",
      "1532/1532 [==============================] - 13s 9ms/step - loss: 0.5692 - accuracy: 0.7257 - val_loss: 0.5637 - val_accuracy: 0.7316\n",
      "Epoch 11/100\n",
      "1532/1532 [==============================] - 12s 8ms/step - loss: 0.5689 - accuracy: 0.7262 - val_loss: 0.5743 - val_accuracy: 0.7191\n",
      "Model: \"sequential\"\n",
      "_________________________________________________________________\n",
      " Layer (type)                Output Shape              Param #   \n",
      "=================================================================\n",
      " dense (Dense)               (None, 64)                768       \n",
      "                                                                 \n",
      " dropout (Dropout)           (None, 64)                0         \n",
      "                                                                 \n",
      " dense_1 (Dense)             (None, 128)               8320      \n",
      "                                                                 \n",
      " dropout_1 (Dropout)         (None, 128)               0         \n",
      "                                                                 \n",
      " dense_2 (Dense)             (None, 64)                8256      \n",
      "                                                                 \n",
      " dropout_2 (Dropout)         (None, 64)                0         \n",
      "                                                                 \n",
      " dense_3 (Dense)             (None, 2)                 130       \n",
      "                                                                 \n",
      "=================================================================\n",
      "Total params: 17474 (68.26 KB)\n",
      "Trainable params: 17474 (68.26 KB)\n",
      "Non-trainable params: 0 (0.00 Byte)\n",
      "_________________________________________________________________\n",
      "657/657 [==============================] - 4s 5ms/step - loss: 0.5628 - accuracy: 0.7283\n",
      "Accuracy: 0.7282857298851013\n"
     ]
    }
   ],
   "source": [
    "first_model = Sequential()\n",
    "first_model.add(Dense(64, activation='relu', kernel_regularizer=regularizers.l2(0.01), input_shape=(X_train.shape[1],)))\n",
    "first_model.add(Dropout(0.1))\n",
    "first_model.add(Dense(128, activation='relu', kernel_regularizer=regularizers.l2(0.01)))\n",
    "first_model.add(Dropout(0.1))\n",
    "first_model.add(Dense(64, activation='relu', kernel_regularizer=regularizers.l2(0.01)))\n",
    "first_model.add(Dropout(0.1))\n",
    "first_model.add(Dense(2, activation='softmax'))\n",
    "\n",
    "first_model.compile(optimizer='adam', loss='sparse_categorical_crossentropy', metrics=['accuracy'])\n",
    "early_stopping = EarlyStopping(monitor='val_loss', patience=5, restore_best_weights=True)\n",
    "history = first_model.fit(X_train, y_train, epochs=100, validation_data=(X_test, y_test), callbacks=[early_stopping])\n",
    "first_model.summary()\n",
    "\n",
    "test_loss, test_accuracy = first_model.evaluate(X_test, y_test)\n",
    "print(\"Accuracy:\", test_accuracy)"
   ],
   "metadata": {
    "collapsed": false,
    "ExecuteTime": {
     "end_time": "2024-05-12T10:16:47.835759400Z",
     "start_time": "2024-05-12T10:14:11.931829300Z"
    }
   },
   "id": "cae0ad8fb94a5796"
  },
  {
   "cell_type": "markdown",
   "source": [
    "Вторая модель нейронной сети"
   ],
   "metadata": {
    "collapsed": false
   },
   "id": "2dc13972f8a22d7a"
  },
  {
   "cell_type": "code",
   "execution_count": 12,
   "outputs": [
    {
     "name": "stdout",
     "output_type": "stream",
     "text": [
      "Epoch 1/100\n",
      "1532/1532 [==============================] - 22s 14ms/step - loss: 0.5710 - accuracy: 0.7253 - val_loss: 0.5637 - val_accuracy: 0.7308\n",
      "Epoch 2/100\n",
      "1532/1532 [==============================] - 9s 6ms/step - loss: 0.5696 - accuracy: 0.7253 - val_loss: 0.5622 - val_accuracy: 0.7309\n",
      "Epoch 3/100\n",
      "1532/1532 [==============================] - 15s 10ms/step - loss: 0.5699 - accuracy: 0.7270 - val_loss: 0.5621 - val_accuracy: 0.7298\n",
      "Epoch 4/100\n",
      "1532/1532 [==============================] - 17s 11ms/step - loss: 0.5691 - accuracy: 0.7261 - val_loss: 0.5590 - val_accuracy: 0.7316\n",
      "Epoch 5/100\n",
      "1532/1532 [==============================] - 23s 15ms/step - loss: 0.5693 - accuracy: 0.7251 - val_loss: 0.5597 - val_accuracy: 0.7323\n",
      "Epoch 6/100\n",
      "1532/1532 [==============================] - 13s 9ms/step - loss: 0.5689 - accuracy: 0.7250 - val_loss: 0.5604 - val_accuracy: 0.7287\n",
      "Epoch 7/100\n",
      "1532/1532 [==============================] - 12s 8ms/step - loss: 0.5687 - accuracy: 0.7248 - val_loss: 0.5587 - val_accuracy: 0.7320\n",
      "Epoch 8/100\n",
      "1532/1532 [==============================] - 12s 8ms/step - loss: 0.5685 - accuracy: 0.7251 - val_loss: 0.5596 - val_accuracy: 0.7321\n",
      "Epoch 9/100\n",
      "1532/1532 [==============================] - 5s 4ms/step - loss: 0.5685 - accuracy: 0.7265 - val_loss: 0.5604 - val_accuracy: 0.7281\n",
      "Epoch 10/100\n",
      "1532/1532 [==============================] - 14s 9ms/step - loss: 0.5683 - accuracy: 0.7265 - val_loss: 0.5615 - val_accuracy: 0.7273\n",
      "Epoch 11/100\n",
      "1532/1532 [==============================] - 8s 5ms/step - loss: 0.5687 - accuracy: 0.7251 - val_loss: 0.5628 - val_accuracy: 0.7279\n",
      "Epoch 12/100\n",
      "1532/1532 [==============================] - 18s 12ms/step - loss: 0.5681 - accuracy: 0.7261 - val_loss: 0.5603 - val_accuracy: 0.7285\n",
      "Model: \"sequential_1\"\n",
      "_________________________________________________________________\n",
      " Layer (type)                Output Shape              Param #   \n",
      "=================================================================\n",
      " dense_4 (Dense)             (None, 64)                768       \n",
      "                                                                 \n",
      " dense_5 (Dense)             (None, 128)               8320      \n",
      "                                                                 \n",
      " dense_6 (Dense)             (None, 256)               33024     \n",
      "                                                                 \n",
      " dropout_3 (Dropout)         (None, 256)               0         \n",
      "                                                                 \n",
      " dense_7 (Dense)             (None, 256)               65792     \n",
      "                                                                 \n",
      " dropout_4 (Dropout)         (None, 256)               0         \n",
      "                                                                 \n",
      " dense_8 (Dense)             (None, 256)               65792     \n",
      "                                                                 \n",
      " dropout_5 (Dropout)         (None, 256)               0         \n",
      "                                                                 \n",
      " dense_9 (Dense)             (None, 256)               65792     \n",
      "                                                                 \n",
      " dropout_6 (Dropout)         (None, 256)               0         \n",
      "                                                                 \n",
      " dense_10 (Dense)            (None, 256)               65792     \n",
      "                                                                 \n",
      " dropout_7 (Dropout)         (None, 256)               0         \n",
      "                                                                 \n",
      " dense_11 (Dense)            (None, 128)               32896     \n",
      "                                                                 \n",
      " dense_12 (Dense)            (None, 64)                8256      \n",
      "                                                                 \n",
      " dense_13 (Dense)            (None, 2)                 130       \n",
      "                                                                 \n",
      "=================================================================\n",
      "Total params: 346562 (1.32 MB)\n",
      "Trainable params: 346562 (1.32 MB)\n",
      "Non-trainable params: 0 (0.00 Byte)\n",
      "_________________________________________________________________\n",
      "657/657 [==============================] - 9s 11ms/step - loss: 214.7059 - accuracy: 0.4465\n",
      "Accuracy: 0.4465238153934479\n"
     ]
    }
   ],
   "source": [
    "second_model = Sequential()\n",
    "second_model.add(Dense(64, activation='relu', kernel_regularizer=regularizers.l1_l2(l1=0.01, l2=0.01), input_shape=(X_train.shape[1],)))\n",
    "second_model.add(Dense(128, activation='relu', kernel_regularizer=regularizers.l1_l2(l1=0.01, l2=0.01)))\n",
    "second_model.add(Dense(256, activation='tanh', kernel_regularizer=regularizers.l1_l2(l1=0.01, l2=0.01)))\n",
    "second_model.add(Dropout(0.2))\n",
    "second_model.add(Dense(256, activation='tanh', kernel_regularizer=regularizers.l1_l2(l1=0.01, l2=0.01)))\n",
    "second_model.add(Dropout(0.2))\n",
    "second_model.add(Dense(256, activation='tanh', kernel_regularizer=regularizers.l1_l2(l1=0.01, l2=0.01)))\n",
    "second_model.add(Dropout(0.2))\n",
    "second_model.add(Dense(256, activation='tanh', kernel_regularizer=regularizers.l1_l2(l1=0.01, l2=0.01)))\n",
    "second_model.add(Dropout(0.2))\n",
    "second_model.add(Dense(256, activation='tanh', kernel_regularizer=regularizers.l1_l2(l1=0.01, l2=0.01)))\n",
    "second_model.add(Dropout(0.2))\n",
    "second_model.add(Dense(128, activation='relu', kernel_regularizer=regularizers.l1_l2(l1=0.01, l2=0.01)))\n",
    "second_model.add(Dense(64, activation='relu', kernel_regularizer=regularizers.l1_l2(l1=0.01, l2=0.01)))\n",
    "second_model.add(Dense(2, activation='softmax'))\n",
    "\n",
    "second_model.compile(optimizer='adam', loss='sparse_categorical_crossentropy', metrics=['accuracy'])\n",
    "early_stopping = EarlyStopping(monitor='val_loss', patience=5, restore_best_weights=True)\n",
    "second_history = first_model.fit(X_train, y_train, epochs=100, batch_size=32, validation_data=(X_test, y_test), callbacks=[early_stopping])\n",
    "second_model.summary()\n",
    "\n",
    "_, test_accuracy = second_model.evaluate(X_test, y_test)\n",
    "print(\"Accuracy:\", test_accuracy)"
   ],
   "metadata": {
    "collapsed": false,
    "ExecuteTime": {
     "end_time": "2024-05-12T11:47:41.108091100Z",
     "start_time": "2024-05-12T11:44:39.627569800Z"
    }
   },
   "id": "8c761193ec9b9dfa"
  },
  {
   "cell_type": "markdown",
   "source": [
    "Третья модель нейронной сети"
   ],
   "metadata": {
    "collapsed": false
   },
   "id": "1d6099c50007eb11"
  },
  {
   "cell_type": "code",
   "execution_count": 15,
   "outputs": [
    {
     "name": "stdout",
     "output_type": "stream",
     "text": [
      "Reloading Tuner from .\\untitled_project\\tuner0.json\n",
      "Model: \"sequential\"\n",
      "_________________________________________________________________\n",
      " Layer (type)                Output Shape              Param #   \n",
      "=================================================================\n",
      " dense (Dense)               (49000, 192)              2304      \n",
      "                                                                 \n",
      " dropout (Dropout)           (49000, 192)              0         \n",
      "                                                                 \n",
      " dense_1 (Dense)             (49000, 256)              49408     \n",
      "                                                                 \n",
      " dropout_1 (Dropout)         (49000, 256)              0         \n",
      "                                                                 \n",
      " dense_2 (Dense)             (49000, 2)                514       \n",
      "                                                                 \n",
      "=================================================================\n",
      "Total params: 52226 (204.01 KB)\n",
      "Trainable params: 52226 (204.01 KB)\n",
      "Non-trainable params: 0 (0.00 Byte)\n",
      "_________________________________________________________________\n",
      "657/657 [==============================] - 4s 5ms/step - loss: 0.5453 - accuracy: 0.7340\n",
      "Accuracy: 0.734000027179718\n"
     ]
    }
   ],
   "source": [
    "def build_model(hp):\n",
    "    model = Sequential()\n",
    "    model.add(Dense(units=hp.Int('units_input', min_value=32, max_value=256, step=32), \n",
    "                    activation='relu', \n",
    "                    kernel_regularizer=regularizers.l2(hp.Choice('l2_input', values=[0.01, 0.001, 0.0001]))))\n",
    "    model.add(Dropout(rate=hp.Float('dropout_input', min_value=0.1, max_value=0.5, step=0.1)))\n",
    "    \n",
    "    for i in range(hp.Int('num_layers', 1, 3)):\n",
    "        model.add(Dense(units=hp.Int(f'units_{i}', min_value=32, max_value=256, step=32),\n",
    "                        activation='relu',\n",
    "                        kernel_regularizer=regularizers.l2(hp.Choice(f'l2_{i}', values=[0.01, 0.001, 0.0001]))))\n",
    "        model.add(Dropout(rate=hp.Float(f'dropout_{i}', min_value=0.1, max_value=0.5, step=0.1)))\n",
    "    \n",
    "    model.add(Dense(2, activation='softmax'))\n",
    "\n",
    "    model.compile(optimizer='adam', \n",
    "                  loss='sparse_categorical_crossentropy', \n",
    "                  metrics=['accuracy'])\n",
    "    \n",
    "    return model\n",
    "\n",
    "tuner = RandomSearch(\n",
    "    build_model,\n",
    "    objective='val_loss',\n",
    "    max_trials=5)\n",
    "\n",
    "tuner.search(X_train, y_train, epochs=100, validation_data=(X_test, y_test), callbacks=[EarlyStopping(monitor='val_loss', patience=5, restore_best_weights=True)])\n",
    "\n",
    "best_model = tuner.get_best_models(num_models=1)[0]\n",
    "best_model.build(X_train.shape)  \n",
    "best_model.summary()\n",
    "\n",
    "_, test_accuracy = best_model.evaluate(X_test, y_test)\n",
    "print(\"Accuracy:\", test_accuracy)"
   ],
   "metadata": {
    "collapsed": false,
    "ExecuteTime": {
     "end_time": "2024-05-12T12:31:46.930203400Z",
     "start_time": "2024-05-12T12:31:36.122090800Z"
    }
   },
   "id": "373efaf9c0b9863d"
  }
 ],
 "metadata": {
  "kernelspec": {
   "display_name": "Python 3",
   "language": "python",
   "name": "python3"
  },
  "language_info": {
   "codemirror_mode": {
    "name": "ipython",
    "version": 2
   },
   "file_extension": ".py",
   "mimetype": "text/x-python",
   "name": "python",
   "nbconvert_exporter": "python",
   "pygments_lexer": "ipython2",
   "version": "2.7.6"
  }
 },
 "nbformat": 4,
 "nbformat_minor": 5
}

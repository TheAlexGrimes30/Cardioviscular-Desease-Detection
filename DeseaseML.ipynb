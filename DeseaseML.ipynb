{
 "cells": [
  {
   "cell_type": "markdown",
   "source": [
    "# Итоговый проект\n",
    "Распознавание сердечно-сосудистых заболеваний"
   ],
   "metadata": {
    "collapsed": false
   },
   "id": "2c9da70dc9be43d2"
  },
  {
   "cell_type": "markdown",
   "source": [
    "Импортируем библиотеки и модули для работы"
   ],
   "metadata": {
    "collapsed": false
   },
   "id": "73571e535898f17a"
  },
  {
   "cell_type": "code",
   "execution_count": 1,
   "outputs": [],
   "source": [
    "import pandas as pd\n",
    "from missingno import matrix\n",
    "from sklearn.impute import KNNImputer\n",
    "from sklearn.preprocessing import MinMaxScaler, StandardScaler\n",
    "from collections import Counter\n",
    "import matplotlib.pyplot as plt\n",
    "from sklearn.model_selection import train_test_split, StratifiedKFold, GridSearchCV, cross_val_score\n",
    "from sklearn.ensemble import BaggingClassifier, AdaBoostClassifier, GradientBoostingClassifier\n",
    "from sklearn.metrics import accuracy_score"
   ],
   "metadata": {
    "collapsed": false,
    "ExecuteTime": {
     "end_time": "2024-05-26T09:05:48.896135700Z",
     "start_time": "2024-05-26T09:05:47.146539400Z"
    }
   },
   "id": "f2c31b674c440b30"
  },
  {
   "cell_type": "markdown",
   "source": [
    "Получение данных из датасета"
   ],
   "metadata": {
    "collapsed": false
   },
   "id": "36f16eb1c70278f3"
  },
  {
   "cell_type": "code",
   "execution_count": 2,
   "outputs": [
    {
     "data": {
      "text/plain": "   id    age  gender  height  weight  ap_hi  ap_lo  cholesterol  gluc  smoke  \\\n0   0  18393       2     168    62.0    110     80            1     1      0   \n1   1  20228       1     156    85.0    140     90            3     1      0   \n2   2  18857       1     165    64.0    130     70            3     1      0   \n3   3  17623       2     169    82.0    150    100            1     1      0   \n4   4  17474       1     156    56.0    100     60            1     1      0   \n\n   alco  active  cardio  \n0     0       1       0  \n1     0       1       1  \n2     0       0       1  \n3     0       1       1  \n4     0       0       0  ",
      "text/html": "<div>\n<style scoped>\n    .dataframe tbody tr th:only-of-type {\n        vertical-align: middle;\n    }\n\n    .dataframe tbody tr th {\n        vertical-align: top;\n    }\n\n    .dataframe thead th {\n        text-align: right;\n    }\n</style>\n<table border=\"1\" class=\"dataframe\">\n  <thead>\n    <tr style=\"text-align: right;\">\n      <th></th>\n      <th>id</th>\n      <th>age</th>\n      <th>gender</th>\n      <th>height</th>\n      <th>weight</th>\n      <th>ap_hi</th>\n      <th>ap_lo</th>\n      <th>cholesterol</th>\n      <th>gluc</th>\n      <th>smoke</th>\n      <th>alco</th>\n      <th>active</th>\n      <th>cardio</th>\n    </tr>\n  </thead>\n  <tbody>\n    <tr>\n      <th>0</th>\n      <td>0</td>\n      <td>18393</td>\n      <td>2</td>\n      <td>168</td>\n      <td>62.0</td>\n      <td>110</td>\n      <td>80</td>\n      <td>1</td>\n      <td>1</td>\n      <td>0</td>\n      <td>0</td>\n      <td>1</td>\n      <td>0</td>\n    </tr>\n    <tr>\n      <th>1</th>\n      <td>1</td>\n      <td>20228</td>\n      <td>1</td>\n      <td>156</td>\n      <td>85.0</td>\n      <td>140</td>\n      <td>90</td>\n      <td>3</td>\n      <td>1</td>\n      <td>0</td>\n      <td>0</td>\n      <td>1</td>\n      <td>1</td>\n    </tr>\n    <tr>\n      <th>2</th>\n      <td>2</td>\n      <td>18857</td>\n      <td>1</td>\n      <td>165</td>\n      <td>64.0</td>\n      <td>130</td>\n      <td>70</td>\n      <td>3</td>\n      <td>1</td>\n      <td>0</td>\n      <td>0</td>\n      <td>0</td>\n      <td>1</td>\n    </tr>\n    <tr>\n      <th>3</th>\n      <td>3</td>\n      <td>17623</td>\n      <td>2</td>\n      <td>169</td>\n      <td>82.0</td>\n      <td>150</td>\n      <td>100</td>\n      <td>1</td>\n      <td>1</td>\n      <td>0</td>\n      <td>0</td>\n      <td>1</td>\n      <td>1</td>\n    </tr>\n    <tr>\n      <th>4</th>\n      <td>4</td>\n      <td>17474</td>\n      <td>1</td>\n      <td>156</td>\n      <td>56.0</td>\n      <td>100</td>\n      <td>60</td>\n      <td>1</td>\n      <td>1</td>\n      <td>0</td>\n      <td>0</td>\n      <td>0</td>\n      <td>0</td>\n    </tr>\n  </tbody>\n</table>\n</div>"
     },
     "execution_count": 2,
     "metadata": {},
     "output_type": "execute_result"
    }
   ],
   "source": [
    "df = pd.read_csv('cardio_train.csv', sep=';')\n",
    "df.head()"
   ],
   "metadata": {
    "collapsed": false,
    "ExecuteTime": {
     "end_time": "2024-05-26T09:05:52.913290600Z",
     "start_time": "2024-05-26T09:05:52.760943200Z"
    }
   },
   "id": "13b6d0728a6a2956"
  },
  {
   "cell_type": "markdown",
   "source": [
    "Информация о датасете"
   ],
   "metadata": {
    "collapsed": false
   },
   "id": "4bf8dfffb941e93d"
  },
  {
   "cell_type": "code",
   "execution_count": 3,
   "outputs": [
    {
     "name": "stdout",
     "output_type": "stream",
     "text": [
      "<class 'pandas.core.frame.DataFrame'>\n",
      "RangeIndex: 70000 entries, 0 to 69999\n",
      "Data columns (total 13 columns):\n",
      " #   Column       Non-Null Count  Dtype  \n",
      "---  ------       --------------  -----  \n",
      " 0   id           70000 non-null  int64  \n",
      " 1   age          70000 non-null  int64  \n",
      " 2   gender       70000 non-null  int64  \n",
      " 3   height       70000 non-null  int64  \n",
      " 4   weight       70000 non-null  float64\n",
      " 5   ap_hi        70000 non-null  int64  \n",
      " 6   ap_lo        70000 non-null  int64  \n",
      " 7   cholesterol  70000 non-null  int64  \n",
      " 8   gluc         70000 non-null  int64  \n",
      " 9   smoke        70000 non-null  int64  \n",
      " 10  alco         70000 non-null  int64  \n",
      " 11  active       70000 non-null  int64  \n",
      " 12  cardio       70000 non-null  int64  \n",
      "dtypes: float64(1), int64(12)\n",
      "memory usage: 6.9 MB\n"
     ]
    }
   ],
   "source": [
    "df.info()"
   ],
   "metadata": {
    "collapsed": false,
    "ExecuteTime": {
     "end_time": "2024-05-26T09:06:00.343144900Z",
     "start_time": "2024-05-26T09:06:00.277883300Z"
    }
   },
   "id": "7c1e90887e72c6db"
  },
  {
   "cell_type": "markdown",
   "source": [
    "Описательные статистики датасета"
   ],
   "metadata": {
    "collapsed": false
   },
   "id": "844bcf2b6cdb1e3a"
  },
  {
   "cell_type": "code",
   "execution_count": 5,
   "outputs": [
    {
     "data": {
      "text/plain": "               count          mean           std      min       25%      50%  \\\nid           70000.0  49972.419900  28851.302323      0.0  25006.75  50001.5   \nage          70000.0  19468.865814   2467.251667  10798.0  17664.00  19703.0   \ngender       70000.0      1.349571      0.476838      1.0      1.00      1.0   \nheight       70000.0    164.359229      8.210126     55.0    159.00    165.0   \nweight       70000.0     74.205690     14.395757     10.0     65.00     72.0   \nap_hi        70000.0    128.817286    154.011419   -150.0    120.00    120.0   \nap_lo        70000.0     96.630414    188.472530    -70.0     80.00     80.0   \ncholesterol  70000.0      1.366871      0.680250      1.0      1.00      1.0   \ngluc         70000.0      1.226457      0.572270      1.0      1.00      1.0   \nsmoke        70000.0      0.088129      0.283484      0.0      0.00      0.0   \nalco         70000.0      0.053771      0.225568      0.0      0.00      0.0   \nactive       70000.0      0.803729      0.397179      0.0      1.00      1.0   \ncardio       70000.0      0.499700      0.500003      0.0      0.00      0.0   \n\n                  75%      max  \nid           74889.25  99999.0  \nage          21327.00  23713.0  \ngender           2.00      2.0  \nheight         170.00    250.0  \nweight          82.00    200.0  \nap_hi          140.00  16020.0  \nap_lo           90.00  11000.0  \ncholesterol      2.00      3.0  \ngluc             1.00      3.0  \nsmoke            0.00      1.0  \nalco             0.00      1.0  \nactive           1.00      1.0  \ncardio           1.00      1.0  ",
      "text/html": "<div>\n<style scoped>\n    .dataframe tbody tr th:only-of-type {\n        vertical-align: middle;\n    }\n\n    .dataframe tbody tr th {\n        vertical-align: top;\n    }\n\n    .dataframe thead th {\n        text-align: right;\n    }\n</style>\n<table border=\"1\" class=\"dataframe\">\n  <thead>\n    <tr style=\"text-align: right;\">\n      <th></th>\n      <th>count</th>\n      <th>mean</th>\n      <th>std</th>\n      <th>min</th>\n      <th>25%</th>\n      <th>50%</th>\n      <th>75%</th>\n      <th>max</th>\n    </tr>\n  </thead>\n  <tbody>\n    <tr>\n      <th>id</th>\n      <td>70000.0</td>\n      <td>49972.419900</td>\n      <td>28851.302323</td>\n      <td>0.0</td>\n      <td>25006.75</td>\n      <td>50001.5</td>\n      <td>74889.25</td>\n      <td>99999.0</td>\n    </tr>\n    <tr>\n      <th>age</th>\n      <td>70000.0</td>\n      <td>19468.865814</td>\n      <td>2467.251667</td>\n      <td>10798.0</td>\n      <td>17664.00</td>\n      <td>19703.0</td>\n      <td>21327.00</td>\n      <td>23713.0</td>\n    </tr>\n    <tr>\n      <th>gender</th>\n      <td>70000.0</td>\n      <td>1.349571</td>\n      <td>0.476838</td>\n      <td>1.0</td>\n      <td>1.00</td>\n      <td>1.0</td>\n      <td>2.00</td>\n      <td>2.0</td>\n    </tr>\n    <tr>\n      <th>height</th>\n      <td>70000.0</td>\n      <td>164.359229</td>\n      <td>8.210126</td>\n      <td>55.0</td>\n      <td>159.00</td>\n      <td>165.0</td>\n      <td>170.00</td>\n      <td>250.0</td>\n    </tr>\n    <tr>\n      <th>weight</th>\n      <td>70000.0</td>\n      <td>74.205690</td>\n      <td>14.395757</td>\n      <td>10.0</td>\n      <td>65.00</td>\n      <td>72.0</td>\n      <td>82.00</td>\n      <td>200.0</td>\n    </tr>\n    <tr>\n      <th>ap_hi</th>\n      <td>70000.0</td>\n      <td>128.817286</td>\n      <td>154.011419</td>\n      <td>-150.0</td>\n      <td>120.00</td>\n      <td>120.0</td>\n      <td>140.00</td>\n      <td>16020.0</td>\n    </tr>\n    <tr>\n      <th>ap_lo</th>\n      <td>70000.0</td>\n      <td>96.630414</td>\n      <td>188.472530</td>\n      <td>-70.0</td>\n      <td>80.00</td>\n      <td>80.0</td>\n      <td>90.00</td>\n      <td>11000.0</td>\n    </tr>\n    <tr>\n      <th>cholesterol</th>\n      <td>70000.0</td>\n      <td>1.366871</td>\n      <td>0.680250</td>\n      <td>1.0</td>\n      <td>1.00</td>\n      <td>1.0</td>\n      <td>2.00</td>\n      <td>3.0</td>\n    </tr>\n    <tr>\n      <th>gluc</th>\n      <td>70000.0</td>\n      <td>1.226457</td>\n      <td>0.572270</td>\n      <td>1.0</td>\n      <td>1.00</td>\n      <td>1.0</td>\n      <td>1.00</td>\n      <td>3.0</td>\n    </tr>\n    <tr>\n      <th>smoke</th>\n      <td>70000.0</td>\n      <td>0.088129</td>\n      <td>0.283484</td>\n      <td>0.0</td>\n      <td>0.00</td>\n      <td>0.0</td>\n      <td>0.00</td>\n      <td>1.0</td>\n    </tr>\n    <tr>\n      <th>alco</th>\n      <td>70000.0</td>\n      <td>0.053771</td>\n      <td>0.225568</td>\n      <td>0.0</td>\n      <td>0.00</td>\n      <td>0.0</td>\n      <td>0.00</td>\n      <td>1.0</td>\n    </tr>\n    <tr>\n      <th>active</th>\n      <td>70000.0</td>\n      <td>0.803729</td>\n      <td>0.397179</td>\n      <td>0.0</td>\n      <td>1.00</td>\n      <td>1.0</td>\n      <td>1.00</td>\n      <td>1.0</td>\n    </tr>\n    <tr>\n      <th>cardio</th>\n      <td>70000.0</td>\n      <td>0.499700</td>\n      <td>0.500003</td>\n      <td>0.0</td>\n      <td>0.00</td>\n      <td>0.0</td>\n      <td>1.00</td>\n      <td>1.0</td>\n    </tr>\n  </tbody>\n</table>\n</div>"
     },
     "execution_count": 5,
     "metadata": {},
     "output_type": "execute_result"
    }
   ],
   "source": [
    "df.describe().T"
   ],
   "metadata": {
    "collapsed": false,
    "ExecuteTime": {
     "end_time": "2024-05-26T09:09:14.612294200Z",
     "start_time": "2024-05-26T09:09:14.515831400Z"
    }
   },
   "id": "d6a90e0e35121cf4"
  },
  {
   "cell_type": "markdown",
   "source": [
    "Преобразуем данные датасета"
   ],
   "metadata": {
    "collapsed": false
   },
   "id": "3c515b41fba63e2"
  },
  {
   "cell_type": "code",
   "execution_count": 6,
   "outputs": [],
   "source": [
    "# Удалим id пациента и целевую переменную из датасета\n",
    "\n",
    "target_data = df['cardio']\n",
    "df = df.drop(columns=['id', 'cardio'])"
   ],
   "metadata": {
    "collapsed": false,
    "ExecuteTime": {
     "end_time": "2024-05-26T09:10:36.601549600Z",
     "start_time": "2024-05-26T09:10:36.568145200Z"
    }
   },
   "id": "9f27f63edc0bdc0b"
  },
  {
   "cell_type": "markdown",
   "source": [
    "Визуализация пропусков датасета"
   ],
   "metadata": {
    "collapsed": false
   },
   "id": "bab41bf6819020b4"
  },
  {
   "cell_type": "code",
   "execution_count": 7,
   "outputs": [
    {
     "data": {
      "text/plain": "<Axes: >"
     },
     "execution_count": 7,
     "metadata": {},
     "output_type": "execute_result"
    },
    {
     "data": {
      "text/plain": "<Figure size 2500x1000 with 2 Axes>",
      "image/png": "[encoded data removed]"
     },
     "metadata": {},
     "output_type": "display_data"
    }
   ],
   "source": [
    "matrix(df)"
   ],
   "metadata": {
    "collapsed": false,
    "ExecuteTime": {
     "end_time": "2024-05-26T09:13:12.919836400Z",
     "start_time": "2024-05-26T09:13:10.739764100Z"
    }
   },
   "id": "a912e7f827108dc9"
  },
  {
   "cell_type": "markdown",
   "source": [
    "Проверка датасета на наличие пропусков"
   ],
   "metadata": {
    "collapsed": false
   },
   "id": "de35990b62ef9d12"
  },
  {
   "cell_type": "code",
   "execution_count": 8,
   "outputs": [
    {
     "name": "stdout",
     "output_type": "stream",
     "text": [
      "Выбросы\n",
      "Количество выбросов в столбце 'age': 4 (0.0)\n",
      "Количество выбросов в столбце 'gender': 0 (0.0)\n",
      "Количество выбросов в столбце 'height': 519 (0.01)\n",
      "Количество выбросов в столбце 'weight': 1819 (0.03)\n",
      "Количество выбросов в столбце 'ap_hi': 1435 (0.02)\n",
      "Количество выбросов в столбце 'ap_lo': 4632 (0.07)\n",
      "Количество выбросов в столбце 'cholesterol': 0 (0.0)\n",
      "Количество выбросов в столбце 'gluc': 10521 (0.15)\n"
     ]
    }
   ],
   "source": [
    "binary_columns = df.columns[df.isin([0, 1]).all()]\n",
    "df_check = df.drop(columns=binary_columns)\n",
    "\n",
    "def detect_outliers(column):\n",
    "    Q1 = column.quantile(0.25)\n",
    "    Q3 = column.quantile(0.75)\n",
    "    IQR = Q3 - Q1\n",
    "\n",
    "    lower_bound = Q1 - 1.5 * IQR\n",
    "    upper_bound = Q3 + 1.5 * IQR\n",
    "\n",
    "    outliers = (column < lower_bound) | (column > upper_bound)\n",
    "    return outliers\n",
    "\n",
    "print(\"Выбросы\")\n",
    "for column in df_check.columns:\n",
    "    if pd.api.types.is_numeric_dtype(df_check[column]):\n",
    "        outliers = detect_outliers(df_check[column])\n",
    "        print(f\"Количество выбросов в столбце '{column}': {outliers.sum()} ({round((outliers.sum() / df_check[column].size), 2)})\")"
   ],
   "metadata": {
    "collapsed": false,
    "ExecuteTime": {
     "end_time": "2024-05-26T09:18:19.016501200Z",
     "start_time": "2024-05-26T09:18:18.871361700Z"
    }
   },
   "id": "52aecb812af9a4dd"
  },
  {
   "cell_type": "markdown",
   "source": [
    "Избавимся от выбросов с помощью метода межквартильного интервала"
   ],
   "metadata": {
    "collapsed": false
   },
   "id": "a7cb475655d1cde2"
  },
  {
   "cell_type": "code",
   "execution_count": 9,
   "outputs": [],
   "source": [
    "Q1 = df_check.quantile(0.25)\n",
    "Q3 = df_check.quantile(0.75)\n",
    "\n",
    "df = df.drop(columns=df_check)\n",
    "\n",
    "IQR = Q3 - Q1\n",
    "\n",
    "lower_bound = Q1 - 1.5 * IQR\n",
    "upper_bound = Q3 + 1.5 * IQR\n",
    "\n",
    "column_to_check = df_check[(df_check >= lower_bound) & (df_check <= upper_bound)]\n",
    "df = pd.concat([column_to_check, df], axis=1)"
   ],
   "metadata": {
    "collapsed": false,
    "ExecuteTime": {
     "end_time": "2024-05-26T09:20:11.064560600Z",
     "start_time": "2024-05-26T09:20:10.951314300Z"
    }
   },
   "id": "bed904a327561d44"
  },
  {
   "cell_type": "markdown",
   "source": [
    "Избавимся от пропусков в датасете"
   ],
   "metadata": {
    "collapsed": false
   },
   "id": "c6801b5d19956d08"
  },
  {
   "cell_type": "code",
   "execution_count": 10,
   "outputs": [
    {
     "name": "stdout",
     "output_type": "stream",
     "text": [
      "<class 'pandas.core.frame.DataFrame'>\n",
      "RangeIndex: 70000 entries, 0 to 69999\n",
      "Data columns (total 11 columns):\n",
      " #   Column       Non-Null Count  Dtype  \n",
      "---  ------       --------------  -----  \n",
      " 0   age          70000 non-null  float64\n",
      " 1   gender       70000 non-null  float64\n",
      " 2   height       70000 non-null  float64\n",
      " 3   weight       70000 non-null  float64\n",
      " 4   ap_hi        70000 non-null  float64\n",
      " 5   ap_lo        70000 non-null  float64\n",
      " 6   cholesterol  70000 non-null  float64\n",
      " 7   gluc         70000 non-null  float64\n",
      " 8   smoke        70000 non-null  float64\n",
      " 9   alco         70000 non-null  float64\n",
      " 10  active       70000 non-null  float64\n",
      "dtypes: float64(11)\n",
      "memory usage: 5.9 MB\n"
     ]
    }
   ],
   "source": [
    "scaler = MinMaxScaler()\n",
    "normalized_data = scaler.fit_transform(df)\n",
    "df = pd.DataFrame(normalized_data, columns=df.columns)\n",
    "\n",
    "imputer = KNNImputer()\n",
    "df_filled = imputer.fit_transform(df)\n",
    "df_filled_original = scaler.inverse_transform(df_filled)\n",
    "df = pd.DataFrame(df_filled_original, columns=df.columns)\n",
    "df.info()"
   ],
   "metadata": {
    "collapsed": false,
    "ExecuteTime": {
     "end_time": "2024-05-26T09:25:50.091773700Z",
     "start_time": "2024-05-26T09:23:55.486150600Z"
    }
   },
   "id": "ac41f5bc6c913fcd"
  },
  {
   "cell_type": "markdown",
   "source": [
    "Выполним нормализацию и стандартизацию данных"
   ],
   "metadata": {
    "collapsed": false
   },
   "id": "7c1cbc8c65fdfd7b"
  },
  {
   "cell_type": "code",
   "execution_count": 11,
   "outputs": [
    {
     "data": {
      "text/plain": "        age    gender    height    weight     ap_hi     ap_lo  cholesterol  \\\n0 -0.436398  1.364055  0.470154 -0.905920 -1.062436 -0.251989    -0.539322   \n1  0.307602 -0.733108 -1.105485  0.953922  0.889390  1.029498     2.400793   \n2 -0.248270 -0.733108  0.076244 -0.744195  0.238781 -1.533476     2.400793   \n3 -0.748595  1.364055  0.601457  0.711334  1.539999  2.310984    -0.539322   \n4 -0.809007 -0.733108 -1.105485 -1.391096 -1.713045 -1.097770    -0.539322   \n\n   gluc     smoke      alco    active  \n0   0.0 -0.310879 -0.238384  0.494167  \n1   0.0 -0.310879 -0.238384  0.494167  \n2   0.0 -0.310879 -0.238384 -2.023607  \n3   0.0 -0.310879 -0.238384  0.494167  \n4   0.0 -0.310879 -0.238384 -2.023607  ",
      "text/html": "<div>\n<style scoped>\n    .dataframe tbody tr th:only-of-type {\n        vertical-align: middle;\n    }\n\n    .dataframe tbody tr th {\n        vertical-align: top;\n    }\n\n    .dataframe thead th {\n        text-align: right;\n    }\n</style>\n<table border=\"1\" class=\"dataframe\">\n  <thead>\n    <tr style=\"text-align: right;\">\n      <th></th>\n      <th>age</th>\n      <th>gender</th>\n      <th>height</th>\n      <th>weight</th>\n      <th>ap_hi</th>\n      <th>ap_lo</th>\n      <th>cholesterol</th>\n      <th>gluc</th>\n      <th>smoke</th>\n      <th>alco</th>\n      <th>active</th>\n    </tr>\n  </thead>\n  <tbody>\n    <tr>\n      <th>0</th>\n      <td>-0.436398</td>\n      <td>1.364055</td>\n      <td>0.470154</td>\n      <td>-0.905920</td>\n      <td>-1.062436</td>\n      <td>-0.251989</td>\n      <td>-0.539322</td>\n      <td>0.0</td>\n      <td>-0.310879</td>\n      <td>-0.238384</td>\n      <td>0.494167</td>\n    </tr>\n    <tr>\n      <th>1</th>\n      <td>0.307602</td>\n      <td>-0.733108</td>\n      <td>-1.105485</td>\n      <td>0.953922</td>\n      <td>0.889390</td>\n      <td>1.029498</td>\n      <td>2.400793</td>\n      <td>0.0</td>\n      <td>-0.310879</td>\n      <td>-0.238384</td>\n      <td>0.494167</td>\n    </tr>\n    <tr>\n      <th>2</th>\n      <td>-0.248270</td>\n      <td>-0.733108</td>\n      <td>0.076244</td>\n      <td>-0.744195</td>\n      <td>0.238781</td>\n      <td>-1.533476</td>\n      <td>2.400793</td>\n      <td>0.0</td>\n      <td>-0.310879</td>\n      <td>-0.238384</td>\n      <td>-2.023607</td>\n    </tr>\n    <tr>\n      <th>3</th>\n      <td>-0.748595</td>\n      <td>1.364055</td>\n      <td>0.601457</td>\n      <td>0.711334</td>\n      <td>1.539999</td>\n      <td>2.310984</td>\n      <td>-0.539322</td>\n      <td>0.0</td>\n      <td>-0.310879</td>\n      <td>-0.238384</td>\n      <td>0.494167</td>\n    </tr>\n    <tr>\n      <th>4</th>\n      <td>-0.809007</td>\n      <td>-0.733108</td>\n      <td>-1.105485</td>\n      <td>-1.391096</td>\n      <td>-1.713045</td>\n      <td>-1.097770</td>\n      <td>-0.539322</td>\n      <td>0.0</td>\n      <td>-0.310879</td>\n      <td>-0.238384</td>\n      <td>-2.023607</td>\n    </tr>\n  </tbody>\n</table>\n</div>"
     },
     "execution_count": 11,
     "metadata": {},
     "output_type": "execute_result"
    }
   ],
   "source": [
    "minmax_scaler = MinMaxScaler()\n",
    "standard_scaler = StandardScaler()\n",
    "\n",
    "normalized_data = minmax_scaler.fit_transform(df)\n",
    "df = pd.DataFrame(normalized_data, columns=df.columns)\n",
    "\n",
    "standard_data = standard_scaler.fit_transform(df)\n",
    "df = pd.DataFrame(standard_data, columns=df.columns)\n",
    "\n",
    "df.head()"
   ],
   "metadata": {
    "collapsed": false,
    "ExecuteTime": {
     "end_time": "2024-05-26T09:29:19.471566800Z",
     "start_time": "2024-05-26T09:29:19.353563Z"
    }
   },
   "id": "90efb7e1c525284d"
  },
  {
   "cell_type": "markdown",
   "source": [
    "Проверка баланса данных"
   ],
   "metadata": {
    "collapsed": false
   },
   "id": "94e0b89b9c5741ee"
  },
  {
   "cell_type": "code",
   "execution_count": 12,
   "outputs": [
    {
     "data": {
      "text/plain": "<Figure size 640x480 with 1 Axes>",
      "image/png": "[encoded data removed]"
     },
     "metadata": {},
     "output_type": "display_data"
    }
   ],
   "source": [
    "counter = Counter(target_data)\n",
    "for k,v in counter.items():\n",
    "    per = v / len(target_data) * 100\n",
    "plt.bar(counter.keys(), counter.values())\n",
    "plt.title(\"Результаты до сэмплирования\")\n",
    "plt.xlabel(\"Class\")\n",
    "plt.ylabel(\"Count\")\n",
    "plt.show()\n"
   ],
   "metadata": {
    "collapsed": false,
    "ExecuteTime": {
     "end_time": "2024-05-26T09:32:30.094816200Z",
     "start_time": "2024-05-26T09:32:29.796820300Z"
    }
   },
   "id": "be3841467669e54f"
  },
  {
   "cell_type": "markdown",
   "source": [
    "Подготовка данных для обучения"
   ],
   "metadata": {
    "collapsed": false
   },
   "id": "e8747308129adbc0"
  },
  {
   "cell_type": "code",
   "execution_count": 13,
   "outputs": [],
   "source": [
    "X_train, X_test, y_train, y_test = train_test_split(df, target_data, test_size=0.3)\n",
    "\n",
    "stratified_kfold = StratifiedKFold(n_splits=5, shuffle=True, random_state=42)"
   ],
   "metadata": {
    "collapsed": false,
    "ExecuteTime": {
     "end_time": "2024-05-26T10:34:43.777337800Z",
     "start_time": "2024-05-26T10:34:43.695340300Z"
    }
   },
   "id": "fe50cae8740f2ebf"
  },
  {
   "cell_type": "markdown",
   "source": [
    "Bagging Classifier"
   ],
   "metadata": {
    "collapsed": false
   },
   "id": "d6b4b334e842bc42"
  },
  {
   "cell_type": "code",
   "execution_count": 14,
   "outputs": [
    {
     "name": "stdout",
     "output_type": "stream",
     "text": [
      "Лучшие гиперпараметры: {'max_features': 0.5, 'max_samples': 0.5, 'n_estimators': 100}\n",
      "Bagging Accuracy Score: 0.7229523809523809\n",
      "Bagging Cross Validation Accuracy: 0.6907551020408162\n"
     ]
    }
   ],
   "source": [
    "bagging_clf = BaggingClassifier()\n",
    "\n",
    "# Вычисление accuracy с помощью кросс-валидации\n",
    "bagging_accuracy = cross_val_score(bagging_clf, X_train, y_train, cv=stratified_kfold, scoring='accuracy').mean()\n",
    "\n",
    "param_grid = {\n",
    "    'n_estimators': [10, 50, 100], \n",
    "    'max_samples': [0.5, 1.0],     \n",
    "    'max_features': [0.5, 1.0]        \n",
    "}\n",
    "\n",
    "grid_search = GridSearchCV(estimator=bagging_clf, param_grid=param_grid, cv=stratified_kfold)\n",
    "grid_search.fit(X_train, y_train)\n",
    "print(\"Лучшие гиперпараметры:\", grid_search.best_params_)\n",
    "\n",
    "best_model = grid_search.best_estimator_\n",
    "y_pred = best_model.predict(X_test)\n",
    "accuracy = accuracy_score(y_test, y_pred)\n",
    "print(f\"Bagging Accuracy Score: {accuracy}\")\n",
    "print(f\"Bagging Cross Validation Accuracy: {bagging_accuracy}\")"
   ],
   "metadata": {
    "collapsed": false,
    "ExecuteTime": {
     "end_time": "2024-05-26T10:39:04.744652Z",
     "start_time": "2024-05-26T10:34:46.482451700Z"
    }
   },
   "id": "cdd4f1d17bdb2574"
  },
  {
   "cell_type": "markdown",
   "source": [
    "AdaBoost Classifier"
   ],
   "metadata": {
    "collapsed": false
   },
   "id": "26f1bb3971c074eb"
  },
  {
   "cell_type": "code",
   "execution_count": 15,
   "outputs": [
    {
     "name": "stderr",
     "output_type": "stream",
     "text": [
      "C:\\Users\\sagop\\venv\\lib\\site-packages\\sklearn\\ensemble\\_weight_boosting.py:519: FutureWarning: The SAMME.R algorithm (the default) is deprecated and will be removed in 1.6. Use the SAMME algorithm to circumvent this warning.\n",
      "  warnings.warn(\n",
      "C:\\Users\\sagop\\venv\\lib\\site-packages\\sklearn\\ensemble\\_weight_boosting.py:519: FutureWarning: The SAMME.R algorithm (the default) is deprecated and will be removed in 1.6. Use the SAMME algorithm to circumvent this warning.\n",
      "  warnings.warn(\n",
      "C:\\Users\\sagop\\venv\\lib\\site-packages\\sklearn\\ensemble\\_weight_boosting.py:519: FutureWarning: The SAMME.R algorithm (the default) is deprecated and will be removed in 1.6. Use the SAMME algorithm to circumvent this warning.\n",
      "  warnings.warn(\n",
      "C:\\Users\\sagop\\venv\\lib\\site-packages\\sklearn\\ensemble\\_weight_boosting.py:519: FutureWarning: The SAMME.R algorithm (the default) is deprecated and will be removed in 1.6. Use the SAMME algorithm to circumvent this warning.\n",
      "  warnings.warn(\n",
      "C:\\Users\\sagop\\venv\\lib\\site-packages\\sklearn\\ensemble\\_weight_boosting.py:519: FutureWarning: The SAMME.R algorithm (the default) is deprecated and will be removed in 1.6. Use the SAMME algorithm to circumvent this warning.\n",
      "  warnings.warn(\n",
      "C:\\Users\\sagop\\venv\\lib\\site-packages\\sklearn\\ensemble\\_weight_boosting.py:519: FutureWarning: The SAMME.R algorithm (the default) is deprecated and will be removed in 1.6. Use the SAMME algorithm to circumvent this warning.\n",
      "  warnings.warn(\n",
      "C:\\Users\\sagop\\venv\\lib\\site-packages\\sklearn\\ensemble\\_weight_boosting.py:519: FutureWarning: The SAMME.R algorithm (the default) is deprecated and will be removed in 1.6. Use the SAMME algorithm to circumvent this warning.\n",
      "  warnings.warn(\n",
      "C:\\Users\\sagop\\venv\\lib\\site-packages\\sklearn\\ensemble\\_weight_boosting.py:519: FutureWarning: The SAMME.R algorithm (the default) is deprecated and will be removed in 1.6. Use the SAMME algorithm to circumvent this warning.\n",
      "  warnings.warn(\n",
      "C:\\Users\\sagop\\venv\\lib\\site-packages\\sklearn\\ensemble\\_weight_boosting.py:519: FutureWarning: The SAMME.R algorithm (the default) is deprecated and will be removed in 1.6. Use the SAMME algorithm to circumvent this warning.\n",
      "  warnings.warn(\n",
      "C:\\Users\\sagop\\venv\\lib\\site-packages\\sklearn\\ensemble\\_weight_boosting.py:519: FutureWarning: The SAMME.R algorithm (the default) is deprecated and will be removed in 1.6. Use the SAMME algorithm to circumvent this warning.\n",
      "  warnings.warn(\n",
      "C:\\Users\\sagop\\venv\\lib\\site-packages\\sklearn\\ensemble\\_weight_boosting.py:519: FutureWarning: The SAMME.R algorithm (the default) is deprecated and will be removed in 1.6. Use the SAMME algorithm to circumvent this warning.\n",
      "  warnings.warn(\n",
      "C:\\Users\\sagop\\venv\\lib\\site-packages\\sklearn\\ensemble\\_weight_boosting.py:519: FutureWarning: The SAMME.R algorithm (the default) is deprecated and will be removed in 1.6. Use the SAMME algorithm to circumvent this warning.\n",
      "  warnings.warn(\n",
      "C:\\Users\\sagop\\venv\\lib\\site-packages\\sklearn\\ensemble\\_weight_boosting.py:519: FutureWarning: The SAMME.R algorithm (the default) is deprecated and will be removed in 1.6. Use the SAMME algorithm to circumvent this warning.\n",
      "  warnings.warn(\n",
      "C:\\Users\\sagop\\venv\\lib\\site-packages\\sklearn\\ensemble\\_weight_boosting.py:519: FutureWarning: The SAMME.R algorithm (the default) is deprecated and will be removed in 1.6. Use the SAMME algorithm to circumvent this warning.\n",
      "  warnings.warn(\n",
      "C:\\Users\\sagop\\venv\\lib\\site-packages\\sklearn\\ensemble\\_weight_boosting.py:519: FutureWarning: The SAMME.R algorithm (the default) is deprecated and will be removed in 1.6. Use the SAMME algorithm to circumvent this warning.\n",
      "  warnings.warn(\n",
      "C:\\Users\\sagop\\venv\\lib\\site-packages\\sklearn\\ensemble\\_weight_boosting.py:519: FutureWarning: The SAMME.R algorithm (the default) is deprecated and will be removed in 1.6. Use the SAMME algorithm to circumvent this warning.\n",
      "  warnings.warn(\n",
      "C:\\Users\\sagop\\venv\\lib\\site-packages\\sklearn\\ensemble\\_weight_boosting.py:519: FutureWarning: The SAMME.R algorithm (the default) is deprecated and will be removed in 1.6. Use the SAMME algorithm to circumvent this warning.\n",
      "  warnings.warn(\n",
      "C:\\Users\\sagop\\venv\\lib\\site-packages\\sklearn\\ensemble\\_weight_boosting.py:519: FutureWarning: The SAMME.R algorithm (the default) is deprecated and will be removed in 1.6. Use the SAMME algorithm to circumvent this warning.\n",
      "  warnings.warn(\n",
      "C:\\Users\\sagop\\venv\\lib\\site-packages\\sklearn\\ensemble\\_weight_boosting.py:519: FutureWarning: The SAMME.R algorithm (the default) is deprecated and will be removed in 1.6. Use the SAMME algorithm to circumvent this warning.\n",
      "  warnings.warn(\n",
      "C:\\Users\\sagop\\venv\\lib\\site-packages\\sklearn\\ensemble\\_weight_boosting.py:519: FutureWarning: The SAMME.R algorithm (the default) is deprecated and will be removed in 1.6. Use the SAMME algorithm to circumvent this warning.\n",
      "  warnings.warn(\n",
      "C:\\Users\\sagop\\venv\\lib\\site-packages\\sklearn\\ensemble\\_weight_boosting.py:519: FutureWarning: The SAMME.R algorithm (the default) is deprecated and will be removed in 1.6. Use the SAMME algorithm to circumvent this warning.\n",
      "  warnings.warn(\n",
      "C:\\Users\\sagop\\venv\\lib\\site-packages\\sklearn\\ensemble\\_weight_boosting.py:519: FutureWarning: The SAMME.R algorithm (the default) is deprecated and will be removed in 1.6. Use the SAMME algorithm to circumvent this warning.\n",
      "  warnings.warn(\n",
      "C:\\Users\\sagop\\venv\\lib\\site-packages\\sklearn\\ensemble\\_weight_boosting.py:519: FutureWarning: The SAMME.R algorithm (the default) is deprecated and will be removed in 1.6. Use the SAMME algorithm to circumvent this warning.\n",
      "  warnings.warn(\n",
      "C:\\Users\\sagop\\venv\\lib\\site-packages\\sklearn\\ensemble\\_weight_boosting.py:519: FutureWarning: The SAMME.R algorithm (the default) is deprecated and will be removed in 1.6. Use the SAMME algorithm to circumvent this warning.\n",
      "  warnings.warn(\n",
      "C:\\Users\\sagop\\venv\\lib\\site-packages\\sklearn\\ensemble\\_weight_boosting.py:519: FutureWarning: The SAMME.R algorithm (the default) is deprecated and will be removed in 1.6. Use the SAMME algorithm to circumvent this warning.\n",
      "  warnings.warn(\n",
      "C:\\Users\\sagop\\venv\\lib\\site-packages\\sklearn\\ensemble\\_weight_boosting.py:519: FutureWarning: The SAMME.R algorithm (the default) is deprecated and will be removed in 1.6. Use the SAMME algorithm to circumvent this warning.\n",
      "  warnings.warn(\n",
      "C:\\Users\\sagop\\venv\\lib\\site-packages\\sklearn\\ensemble\\_weight_boosting.py:519: FutureWarning: The SAMME.R algorithm (the default) is deprecated and will be removed in 1.6. Use the SAMME algorithm to circumvent this warning.\n",
      "  warnings.warn(\n",
      "C:\\Users\\sagop\\venv\\lib\\site-packages\\sklearn\\ensemble\\_weight_boosting.py:519: FutureWarning: The SAMME.R algorithm (the default) is deprecated and will be removed in 1.6. Use the SAMME algorithm to circumvent this warning.\n",
      "  warnings.warn(\n",
      "C:\\Users\\sagop\\venv\\lib\\site-packages\\sklearn\\ensemble\\_weight_boosting.py:519: FutureWarning: The SAMME.R algorithm (the default) is deprecated and will be removed in 1.6. Use the SAMME algorithm to circumvent this warning.\n",
      "  warnings.warn(\n",
      "C:\\Users\\sagop\\venv\\lib\\site-packages\\sklearn\\ensemble\\_weight_boosting.py:519: FutureWarning: The SAMME.R algorithm (the default) is deprecated and will be removed in 1.6. Use the SAMME algorithm to circumvent this warning.\n",
      "  warnings.warn(\n",
      "C:\\Users\\sagop\\venv\\lib\\site-packages\\sklearn\\ensemble\\_weight_boosting.py:519: FutureWarning: The SAMME.R algorithm (the default) is deprecated and will be removed in 1.6. Use the SAMME algorithm to circumvent this warning.\n",
      "  warnings.warn(\n",
      "C:\\Users\\sagop\\venv\\lib\\site-packages\\sklearn\\ensemble\\_weight_boosting.py:519: FutureWarning: The SAMME.R algorithm (the default) is deprecated and will be removed in 1.6. Use the SAMME algorithm to circumvent this warning.\n",
      "  warnings.warn(\n",
      "C:\\Users\\sagop\\venv\\lib\\site-packages\\sklearn\\ensemble\\_weight_boosting.py:519: FutureWarning: The SAMME.R algorithm (the default) is deprecated and will be removed in 1.6. Use the SAMME algorithm to circumvent this warning.\n",
      "  warnings.warn(\n",
      "C:\\Users\\sagop\\venv\\lib\\site-packages\\sklearn\\ensemble\\_weight_boosting.py:519: FutureWarning: The SAMME.R algorithm (the default) is deprecated and will be removed in 1.6. Use the SAMME algorithm to circumvent this warning.\n",
      "  warnings.warn(\n",
      "C:\\Users\\sagop\\venv\\lib\\site-packages\\sklearn\\ensemble\\_weight_boosting.py:519: FutureWarning: The SAMME.R algorithm (the default) is deprecated and will be removed in 1.6. Use the SAMME algorithm to circumvent this warning.\n",
      "  warnings.warn(\n",
      "C:\\Users\\sagop\\venv\\lib\\site-packages\\sklearn\\ensemble\\_weight_boosting.py:519: FutureWarning: The SAMME.R algorithm (the default) is deprecated and will be removed in 1.6. Use the SAMME algorithm to circumvent this warning.\n",
      "  warnings.warn(\n",
      "C:\\Users\\sagop\\venv\\lib\\site-packages\\sklearn\\ensemble\\_weight_boosting.py:519: FutureWarning: The SAMME.R algorithm (the default) is deprecated and will be removed in 1.6. Use the SAMME algorithm to circumvent this warning.\n",
      "  warnings.warn(\n",
      "C:\\Users\\sagop\\venv\\lib\\site-packages\\sklearn\\ensemble\\_weight_boosting.py:519: FutureWarning: The SAMME.R algorithm (the default) is deprecated and will be removed in 1.6. Use the SAMME algorithm to circumvent this warning.\n",
      "  warnings.warn(\n",
      "C:\\Users\\sagop\\venv\\lib\\site-packages\\sklearn\\ensemble\\_weight_boosting.py:519: FutureWarning: The SAMME.R algorithm (the default) is deprecated and will be removed in 1.6. Use the SAMME algorithm to circumvent this warning.\n",
      "  warnings.warn(\n",
      "C:\\Users\\sagop\\venv\\lib\\site-packages\\sklearn\\ensemble\\_weight_boosting.py:519: FutureWarning: The SAMME.R algorithm (the default) is deprecated and will be removed in 1.6. Use the SAMME algorithm to circumvent this warning.\n",
      "  warnings.warn(\n",
      "C:\\Users\\sagop\\venv\\lib\\site-packages\\sklearn\\ensemble\\_weight_boosting.py:519: FutureWarning: The SAMME.R algorithm (the default) is deprecated and will be removed in 1.6. Use the SAMME algorithm to circumvent this warning.\n",
      "  warnings.warn(\n",
      "C:\\Users\\sagop\\venv\\lib\\site-packages\\sklearn\\ensemble\\_weight_boosting.py:519: FutureWarning: The SAMME.R algorithm (the default) is deprecated and will be removed in 1.6. Use the SAMME algorithm to circumvent this warning.\n",
      "  warnings.warn(\n",
      "C:\\Users\\sagop\\venv\\lib\\site-packages\\sklearn\\ensemble\\_weight_boosting.py:519: FutureWarning: The SAMME.R algorithm (the default) is deprecated and will be removed in 1.6. Use the SAMME algorithm to circumvent this warning.\n",
      "  warnings.warn(\n",
      "C:\\Users\\sagop\\venv\\lib\\site-packages\\sklearn\\ensemble\\_weight_boosting.py:519: FutureWarning: The SAMME.R algorithm (the default) is deprecated and will be removed in 1.6. Use the SAMME algorithm to circumvent this warning.\n",
      "  warnings.warn(\n",
      "C:\\Users\\sagop\\venv\\lib\\site-packages\\sklearn\\ensemble\\_weight_boosting.py:519: FutureWarning: The SAMME.R algorithm (the default) is deprecated and will be removed in 1.6. Use the SAMME algorithm to circumvent this warning.\n",
      "  warnings.warn(\n",
      "C:\\Users\\sagop\\venv\\lib\\site-packages\\sklearn\\ensemble\\_weight_boosting.py:519: FutureWarning: The SAMME.R algorithm (the default) is deprecated and will be removed in 1.6. Use the SAMME algorithm to circumvent this warning.\n",
      "  warnings.warn(\n",
      "C:\\Users\\sagop\\venv\\lib\\site-packages\\sklearn\\ensemble\\_weight_boosting.py:519: FutureWarning: The SAMME.R algorithm (the default) is deprecated and will be removed in 1.6. Use the SAMME algorithm to circumvent this warning.\n",
      "  warnings.warn(\n",
      "C:\\Users\\sagop\\venv\\lib\\site-packages\\sklearn\\ensemble\\_weight_boosting.py:519: FutureWarning: The SAMME.R algorithm (the default) is deprecated and will be removed in 1.6. Use the SAMME algorithm to circumvent this warning.\n",
      "  warnings.warn(\n",
      "C:\\Users\\sagop\\venv\\lib\\site-packages\\sklearn\\ensemble\\_weight_boosting.py:519: FutureWarning: The SAMME.R algorithm (the default) is deprecated and will be removed in 1.6. Use the SAMME algorithm to circumvent this warning.\n",
      "  warnings.warn(\n",
      "C:\\Users\\sagop\\venv\\lib\\site-packages\\sklearn\\ensemble\\_weight_boosting.py:519: FutureWarning: The SAMME.R algorithm (the default) is deprecated and will be removed in 1.6. Use the SAMME algorithm to circumvent this warning.\n",
      "  warnings.warn(\n",
      "C:\\Users\\sagop\\venv\\lib\\site-packages\\sklearn\\ensemble\\_weight_boosting.py:519: FutureWarning: The SAMME.R algorithm (the default) is deprecated and will be removed in 1.6. Use the SAMME algorithm to circumvent this warning.\n",
      "  warnings.warn(\n"
     ]
    },
    {
     "name": "stdout",
     "output_type": "stream",
     "text": [
      "Лучшие гиперпараметры: {'learning_rate': 1.0, 'n_estimators': 200}\n",
      "AdaBoost Accuracy Score: 0.7267142857142858\n",
      "AdaBoost Cross Validation Accuracy: 0.6907551020408162\n"
     ]
    }
   ],
   "source": [
    "adaboost_clf = AdaBoostClassifier()\n",
    "\n",
    "# Вычисление accuracy с помощью кросс-валидации\n",
    "adaboost_accuracy = cross_val_score(adaboost_clf, X_train, y_train, cv=stratified_kfold, scoring='accuracy').mean()\n",
    "\n",
    "param_grid = {\n",
    "    'n_estimators': [50, 100, 200],  \n",
    "    'learning_rate': [0.1, 0.5, 1.0] \n",
    "}\n",
    "\n",
    "grid_search = GridSearchCV(estimator=adaboost_clf, param_grid=param_grid, cv=stratified_kfold)\n",
    "grid_search.fit(X_train, y_train)\n",
    "print(\"Лучшие гиперпараметры:\", grid_search.best_params_)\n",
    "\n",
    "best_model = grid_search.best_estimator_\n",
    "y_pred = best_model.predict(X_test)\n",
    "accuracy = accuracy_score(y_test, y_pred)\n",
    "print(f\"AdaBoost Accuracy Score: {accuracy}\")\n",
    "print(f\"AdaBoost Cross Validation Accuracy: {bagging_accuracy}\")"
   ],
   "metadata": {
    "collapsed": false,
    "ExecuteTime": {
     "end_time": "2024-05-26T10:43:31.431504Z",
     "start_time": "2024-05-26T10:41:24.882451100Z"
    }
   },
   "id": "67314bbae2188517"
  },
  {
   "cell_type": "markdown",
   "source": [
    "Градиентный бустинг"
   ],
   "metadata": {
    "collapsed": false
   },
   "id": "609d455736dd7345"
  },
  {
   "cell_type": "code",
   "execution_count": 16,
   "outputs": [
    {
     "name": "stdout",
     "output_type": "stream",
     "text": [
      "Лучшие гиперпараметры: {'learning_rate': 0.1, 'n_estimators': 200}\n",
      "AdaBoost Accuracy Score: 0.731904761904762\n",
      "AdaBoost Cross Validation Accuracy: 0.731904761904762\n"
     ]
    }
   ],
   "source": [
    "gradient_clf = GradientBoostingClassifier()\n",
    "\n",
    "# Вычисление accuracy с помощью кросс-валидации\n",
    "gradient_accuracy = cross_val_score(gradient_clf, X_train, y_train, cv=stratified_kfold, scoring='accuracy').mean()\n",
    "\n",
    "param_grid = {\n",
    "    'n_estimators': [50, 100, 200],  \n",
    "    'learning_rate': [0.1, 0.5, 1.0] \n",
    "}\n",
    "\n",
    "grid_search = GridSearchCV(estimator=gradient_clf, param_grid=param_grid, cv=stratified_kfold)\n",
    "grid_search.fit(X_train, y_train)\n",
    "print(\"Лучшие гиперпараметры:\", grid_search.best_params_)\n",
    "\n",
    "best_model = grid_search.best_estimator_\n",
    "y_pred = best_model.predict(X_test)\n",
    "accuracy = accuracy_score(y_test, y_pred)\n",
    "print(f\"AdaBoost Accuracy Score: {accuracy}\")\n",
    "print(f\"AdaBoost Cross Validation Accuracy: {accuracy}\")"
   ],
   "metadata": {
    "collapsed": false,
    "ExecuteTime": {
     "end_time": "2024-05-26T10:54:13.527767900Z",
     "start_time": "2024-05-26T10:51:11.013869600Z"
    }
   },
   "id": "1cb4a03acd4859c5"
  },
  {
   "cell_type": "markdown",
   "source": [],
   "metadata": {
    "collapsed": false
   },
   "id": "bebfafd924ab41fa"
  }
 ],
 "metadata": {
  "kernelspec": {
   "display_name": "Python 3",
   "language": "python",
   "name": "python3"
  },
  "language_info": {
   "codemirror_mode": {
    "name": "ipython",
    "version": 2
   },
   "file_extension": ".py",
   "mimetype": "text/x-python",
   "name": "python",
   "nbconvert_exporter": "python",
   "pygments_lexer": "ipython2",
   "version": "2.7.6"
  }
 },
 "nbformat": 4,
 "nbformat_minor": 5
}
